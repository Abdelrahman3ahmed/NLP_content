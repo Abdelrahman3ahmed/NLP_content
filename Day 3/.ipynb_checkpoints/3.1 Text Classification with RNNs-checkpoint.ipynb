{
 "cells": [
  {
   "cell_type": "markdown",
   "metadata": {
    "id": "iJvQX9AscqIX"
   },
   "source": [
    "<center><h1>Recurrent Neural Networks</h1></center>\n",
    "\n",
    "<center><img src=\"https://gblobscdn.gitbook.com/assets%2F-LvBP1svpACTB1R1x_U4%2F-LwEQnQw8wHRB6_2zYtG%2F-LwEZT8zd07mLDuaQZwy%2Fimage.png?alt=media&token=93a3c3e2-e32b-4fec-baf5-5e6b092920c4\"></center>\n",
    "\n",
    "The main idea behind recurrent neural networks is that the input is fed to them sequentially through time.\n",
    "\n",
    "for example the feed forward  neural network would work in the following way.\n",
    "\n",
    "<center><img src='images/ann.png'></center>\n",
    "<center>feed forward network</center>\n",
    "\n",
    "In the network above, each word is feed to an activation function, regardless of it's order, the activation function has no clue what word have been seen before or after, as the output of the activation is calculated as \n",
    "\n",
    "$$h1(x) = h1('product', 'was', 'not', 'good') = W_{1,1} * 'product' + W_{1,2} * 'was' + W_{1,3}*'not'+ W_{1,4}*'good' $$\n",
    "\n",
    "And you can see here that if we changed the order of the tokens, nothing will change.\n",
    "\n",
    "Now let's see how Recurrent networks does this\n",
    "\n",
    "<center><img src=\"images/rnn.png\"></center>\n",
    "<center>recurrent neural network</center>\n",
    "\n",
    "In the recurrent network, the input goes through the same hidden layer multiple times, updating it's weights, and thus taking into account the order of the inputs because it update itself based on the order of the input.\n",
    "\n",
    "So the activation is calculated here in this example as follows\n",
    "\n",
    "\n",
    "$$h1(x) = {\\color{Red} h1('good', } {\\color{Green} h1('not',} {\\color{Blue} h1('was', } {\\color{Yellow} h1('product', '<sos>')}{\\color{Blue} )}{\\color{Green} )}{\\color{Red} )}$$\n",
    "\n",
    "\n",
    "As you can see here each function takes as it's input the previous function, which takes into account the previous input and so on till the first input."
   ]
  },
  {
   "cell_type": "markdown",
   "metadata": {
    "id": "RsVDvFw3cqIo"
   },
   "source": [
    "### Types of sequence problems\n",
    "\n",
    "<center><img src='https://camo.githubusercontent.com/89a1cc7342d324ca30e45025bb278572f3f114d2/687474703a2f2f6b617270617468792e6769746875622e696f2f6173736574732f726e6e2f64696167732e6a706567'></center>\n",
    "<center><a href='https://github.com/vict0rsch/deep_learning/tree/master/keras/recurrent'>source</a></center>\n",
    "\n",
    "The cases we might use sequence models might include for example:\n",
    "\n",
    "1. One to Many\n",
    "        a. song generator\n",
    "        b. text generator\n",
    "2. Many to One\n",
    "        a. Sentiment Analysis\n",
    "        b. Voice verification (like to tell if this is person X or not)\n",
    "3. Many to Many (in the same time)\n",
    "        a. Named Entities recognition\n",
    "        b. Part of Speech tagging\n",
    "4. Many to Many (encoder-decoder)\n",
    "        a. Machine translation\n",
    "        b. Question Answering\n",
    "        \n",
    "for one to one we don't need **sequence** model"
   ]
  },
  {
   "cell_type": "markdown",
   "metadata": {
    "id": "bIOoKy5dcqIr"
   },
   "source": [
    "### What happens inside the RNN block ??\n",
    "\n",
    "<center><img src=\"https://miro.medium.com/max/1512/1*HRuDxU1i4JNu-Ywt88LnaQ.png\"></center>\n",
    "<center><a href=\"https://mc.ai/deep-learning-recurrent-neural-networks/\">source</a></center>\n",
    "\n",
    "The cell by itself does one calculation, which is the hidden state $h_t$, in some cases the output of this cell is fed to a sigmoid or a softmax output and this would be another output called $a_t$ in the figure below\n",
    "\n",
    "<center><img src='images/rnn-detailed.png'></center>"
   ]
  },
  {
   "cell_type": "markdown",
   "metadata": {
    "id": "qx7JeMxhcqIu"
   },
   "source": [
    "### Deal with RNN inputs\n",
    "\n",
    "We need to pad all the inputs of the RNN so that they all have the same length or time so to speak, for example if one input is *'the product was very good with few problems'* would have **8** steps, for the next input let's say its: *'a good product'* this one have only **3** steps, so we pad it with 5 more tokens to make it in the same length as our longest sentence so it would be like so `'a good product <PAD> <PAD> <PAD> <PAD> <PAD>'`."
   ]
  },
  {
   "cell_type": "markdown",
   "metadata": {
    "id": "ZArI2lYScqIw"
   },
   "source": [
    "### Input representation\n",
    "\n",
    "We represent our input in this case in embeddings, in the same way we discussed before, either character level or word or even sentence level.\n",
    "\n",
    "Of course we can make use of a pre-trained model to generate these embeddings for us."
   ]
  },
  {
   "cell_type": "markdown",
   "metadata": {
    "id": "Ykd7B-30cqIy"
   },
   "source": [
    "### Multi layer RNN ?\n",
    "\n",
    "The RNN cell can be stacked up to build multilayer network, let's see how it will look.\n",
    "\n",
    "<center><img src='https://static.packt-cdn.com/products/9781787121089/graphics/image_06_008.png'></center>\n",
    "\n",
    "As you can see, each input passes through the first layer then the second layer, thus will enable the second layer to build a complex representation upon the first one's."
   ]
  },
  {
   "cell_type": "markdown",
   "metadata": {
    "id": "lZMmqoS8cqIz"
   },
   "source": [
    "### Can we see the future ?\n",
    "\n",
    "We solved the problem of input order, but can't we make use of the future inputs, because for example we might make use of the later text in our input to classify the current text.\n",
    "\n",
    "## Bidirectional Recurrent Neural Network BiRNN\n",
    "\n",
    "<center><img src='https://d2l.ai/_images/birnn.svg'></center>\n",
    "\n",
    "The main idea of the bidirectional rnn is to capture both the inputs from the past and the future, note here that we can't drive the output of the network till all of the inputs were loaded, in another words, you can't get a many to many model in a way that on each input word you got a label."
   ]
  },
  {
   "cell_type": "markdown",
   "metadata": {
    "id": "6_Q98tHAcqI2"
   },
   "source": [
    "## Building RNN with Tensorflow\n",
    "\n",
    "<center><img src='https://www.lewuathe.com/assets/img/posts/2019-03-06-annoucements-in-tensorflow-dev-summit-2019/catch.png'></center>"
   ]
  },
  {
   "cell_type": "markdown",
   "metadata": {
    "id": "Lt6qK94kcqI4"
   },
   "source": [
    "### Embedding layer\n",
    "\n",
    "The embedding layer is used to generate embeddings for tokens as they are fed to the network, remember what we did in the embedding step before?"
   ]
  },
  {
   "cell_type": "code",
   "execution_count": 1,
   "metadata": {
    "ExecuteTime": {
     "end_time": "2021-11-10T23:09:08.881364Z",
     "start_time": "2021-11-10T23:09:06.404487Z"
    },
    "executionInfo": {
     "elapsed": 7214,
     "status": "ok",
     "timestamp": 1656763927458,
     "user": {
      "displayName": "Wssam Hassan",
      "userId": "16924058918477820692"
     },
     "user_tz": -120
    },
    "id": "9WhbomsEcqI6"
   },
   "outputs": [],
   "source": [
    "## Load the data to get started\n",
    "import pandas as pd\n",
    "import numpy as np\n",
    "import tensorflow as tf\n",
    "import spacy"
   ]
  },
  {
   "cell_type": "code",
   "execution_count": 2,
   "metadata": {
    "ExecuteTime": {
     "end_time": "2021-11-10T23:09:12.870708Z",
     "start_time": "2021-11-10T23:09:08.882727Z"
    },
    "colab": {
     "base_uri": "https://localhost:8080/"
    },
    "executionInfo": {
     "elapsed": 8186,
     "status": "ok",
     "timestamp": 1656763935629,
     "user": {
      "displayName": "Wssam Hassan",
      "userId": "16924058918477820692"
     },
     "user_tz": -120
    },
    "id": "NT_K-KzbcqJB",
    "outputId": "e5ab6b63-04ea-4566-9b93-e201412c53a2"
   },
   "outputs": [
    {
     "name": "stdout",
     "output_type": "stream",
     "text": [
      "Downloading data from https://storage.googleapis.com/tensorflow/tf-keras-datasets/imdb_word_index.json\n",
      "1646592/1641221 [==============================] - 0s 0us/step\n",
      "1654784/1641221 [==============================] - 0s 0us/step\n",
      "Downloading data from https://storage.googleapis.com/tensorflow/tf-keras-datasets/imdb.npz\n",
      "17465344/17464789 [==============================] - 0s 0us/step\n",
      "17473536/17464789 [==============================] - 0s 0us/step\n"
     ]
    }
   ],
   "source": [
    "word2idx = tf.keras.datasets.imdb.get_word_index()\n",
    "(x_train, y_train), (x_test, y_test) = tf.keras.datasets.imdb.load_data()"
   ]
  },
  {
   "cell_type": "code",
   "execution_count": 3,
   "metadata": {
    "colab": {
     "base_uri": "https://localhost:8080/"
    },
    "executionInfo": {
     "elapsed": 17,
     "status": "ok",
     "timestamp": 1656763935631,
     "user": {
      "displayName": "Wssam Hassan",
      "userId": "16924058918477820692"
     },
     "user_tz": -120
    },
    "id": "_CYHT4d2lMML",
    "outputId": "0a8681e2-ad51-41d1-f8fd-6a55b49db3ce"
   },
   "outputs": [
    {
     "name": "stdout",
     "output_type": "stream",
     "text": [
      "[1, 14, 22, 16, 43, 530, 973, 1622, 1385, 65, 458, 4468, 66, 3941, 4, 173, 36, 256, 5, 25, 100, 43, 838, 112, 50, 670, 22665, 9, 35, 480, 284, 5, 150, 4, 172, 112, 167, 21631, 336, 385, 39, 4, 172, 4536, 1111, 17, 546, 38, 13, 447, 4, 192, 50, 16, 6, 147, 2025, 19, 14, 22, 4, 1920, 4613, 469, 4, 22, 71, 87, 12, 16, 43, 530, 38, 76, 15, 13, 1247, 4, 22, 17, 515, 17, 12, 16, 626, 18, 19193, 5, 62, 386, 12, 8, 316, 8, 106, 5, 4, 2223, 5244, 16, 480, 66, 3785, 33, 4, 130, 12, 16, 38, 619, 5, 25, 124, 51, 36, 135, 48, 25, 1415, 33, 6, 22, 12, 215, 28, 77, 52, 5, 14, 407, 16, 82, 10311, 8, 4, 107, 117, 5952, 15, 256, 4, 31050, 7, 3766, 5, 723, 36, 71, 43, 530, 476, 26, 400, 317, 46, 7, 4, 12118, 1029, 13, 104, 88, 4, 381, 15, 297, 98, 32, 2071, 56, 26, 141, 6, 194, 7486, 18, 4, 226, 22, 21, 134, 476, 26, 480, 5, 144, 30, 5535, 18, 51, 36, 28, 224, 92, 25, 104, 4, 226, 65, 16, 38, 1334, 88, 12, 16, 283, 5, 16, 4472, 113, 103, 32, 15, 16, 5345, 19, 178, 32]\n"
     ]
    }
   ],
   "source": [
    "print(x_train[0])"
   ]
  },
  {
   "cell_type": "code",
   "execution_count": 4,
   "metadata": {
    "ExecuteTime": {
     "end_time": "2021-11-10T23:09:12.880207Z",
     "start_time": "2021-11-10T23:09:12.872606Z"
    },
    "colab": {
     "base_uri": "https://localhost:8080/"
    },
    "executionInfo": {
     "elapsed": 337,
     "status": "ok",
     "timestamp": 1656763964058,
     "user": {
      "displayName": "Wssam Hassan",
      "userId": "16924058918477820692"
     },
     "user_tz": -120
    },
    "id": "IJJ1vlczcqJE",
    "outputId": "a90cc66c-ffbb-48bf-e3f4-ed5344368216",
    "scrolled": true
   },
   "outputs": [
    {
     "data": {
      "text/plain": [
       "450"
      ]
     },
     "execution_count": 4,
     "metadata": {},
     "output_type": "execute_result"
    }
   ],
   "source": [
    "len(x_train[10])"
   ]
  },
  {
   "cell_type": "code",
   "execution_count": 5,
   "metadata": {
    "ExecuteTime": {
     "end_time": "2021-11-10T23:09:12.902172Z",
     "start_time": "2021-11-10T23:09:12.882698Z"
    },
    "executionInfo": {
     "elapsed": 270,
     "status": "ok",
     "timestamp": 1656763968696,
     "user": {
      "displayName": "Wssam Hassan",
      "userId": "16924058918477820692"
     },
     "user_tz": -120
    },
    "id": "BX_uNq9YcqJF"
   },
   "outputs": [],
   "source": [
    "idx2word = {word2idx[word]: word for word in word2idx.keys()}"
   ]
  },
  {
   "cell_type": "code",
   "execution_count": 6,
   "metadata": {
    "ExecuteTime": {
     "end_time": "2021-11-10T23:09:12.909382Z",
     "start_time": "2021-11-10T23:09:12.903572Z"
    },
    "colab": {
     "base_uri": "https://localhost:8080/",
     "height": 35
    },
    "executionInfo": {
     "elapsed": 14,
     "status": "ok",
     "timestamp": 1656763968994,
     "user": {
      "displayName": "Wssam Hassan",
      "userId": "16924058918477820692"
     },
     "user_tz": -120
    },
    "id": "IC4oXAApcqJG",
    "outputId": "fdd35461-70d3-4d21-9c91-29e207933f19"
   },
   "outputs": [
    {
     "data": {
      "application/vnd.google.colaboratory.intrinsic+json": {
       "type": "string"
      },
      "text/plain": [
       "'thought'"
      ]
     },
     "execution_count": 6,
     "metadata": {},
     "output_type": "execute_result"
    }
   ],
   "source": [
    "idx2word[194]"
   ]
  },
  {
   "cell_type": "code",
   "execution_count": 7,
   "metadata": {
    "ExecuteTime": {
     "end_time": "2021-11-10T23:09:12.914783Z",
     "start_time": "2021-11-10T23:09:12.911175Z"
    },
    "executionInfo": {
     "elapsed": 16,
     "status": "ok",
     "timestamp": 1656763970089,
     "user": {
      "displayName": "Wssam Hassan",
      "userId": "16924058918477820692"
     },
     "user_tz": -120
    },
    "id": "vwLuW55JcqJI"
   },
   "outputs": [],
   "source": [
    "def reconstruct(tokens):\n",
    "    text = []\n",
    "    for token in tokens:\n",
    "        text.append(idx2word[token])\n",
    "    return \" \".join(text)"
   ]
  },
  {
   "cell_type": "code",
   "execution_count": 8,
   "metadata": {
    "ExecuteTime": {
     "end_time": "2021-11-10T23:09:12.922619Z",
     "start_time": "2021-11-10T23:09:12.916939Z"
    },
    "colab": {
     "base_uri": "https://localhost:8080/",
     "height": 140
    },
    "executionInfo": {
     "elapsed": 295,
     "status": "ok",
     "timestamp": 1656763973102,
     "user": {
      "displayName": "Wssam Hassan",
      "userId": "16924058918477820692"
     },
     "user_tz": -120
    },
    "id": "qgIEzqVqcqJJ",
    "outputId": "480a3ddd-79f5-4cd4-fe80-1b848304fc7c"
   },
   "outputs": [
    {
     "data": {
      "application/vnd.google.colaboratory.intrinsic+json": {
       "type": "string"
      },
      "text/plain": [
       "\"the clear fact entertaining there life back br is safely show of performance stars br actors film him many should movie reasons to mikey reading blended are in of scenes jada carbon of safely out compared not boss yes to sentiment show its disappointed fact raw to it justice by br of where clear fact many your way jada with city nice are is along wrong not as it way she but this anything up haven't been by who of choices br of you to as this i'd it mcdoakes who of shot you'll to love for updated of you it is sequels of little quest are seen watched front chemistry to simply alive of chris being it is say easy reservation cry in chemistry but voodoo all it maybe this is wing film job live of objects relief aneta level names lifelong dunne to be stops serial 1948 watch is men go this of wing american from russo moving is accepted put this of jerry for places so work moby watch holodeck lot br that from sometimes wondered make department introduced to wondered from action at turns in low that in gay i'm of chemistry bible i i simply alive it is time done inspector to watching look world named for more tells up many fans are that movie music her get grasp but seems in people film that if explain in why for jada find of where br if carlo movie throughout if irritable of you best look red startling to recently in successfully much unfortunately going dan colman's stuck is him sequences but of you of enough for its br that beautiful put reasons of chris chemistry wing proposal for of you red time trivia to as companion payoff of chris less br of subplots torture in low alive in gay some br of wing if time actual in also side any if name takes for of friendship it of 10 for had grande great to as you students for movie of going proposal for bad well best had at woman br musical when it caused of gripping to as gem in updated for jada look end gene in at world aliens of you it meet but is quite br western ideas of chris little of films he an time done this were right too to of enough for of ending become family beautiful are make right being it time much bit especially craig for of you parts bond who of here parts at due given movie of once give find actor to recently in at world dolls loved jada it is video him fact you to by br of where br of grown fight culture leads\""
      ]
     },
     "execution_count": 8,
     "metadata": {},
     "output_type": "execute_result"
    }
   ],
   "source": [
    "reconstruct(x_train[10])"
   ]
  },
  {
   "cell_type": "code",
   "execution_count": null,
   "metadata": {
    "ExecuteTime": {
     "end_time": "2021-11-10T23:09:12.930587Z",
     "start_time": "2021-11-10T23:09:12.926222Z"
    },
    "id": "8KwXOS-ncqJK",
    "outputId": "a13d6e43-9d32-4fb8-e78a-eeef52bd3b02"
   },
   "outputs": [
    {
     "data": {
      "text/plain": [
       "0"
      ]
     },
     "execution_count": 8,
     "metadata": {},
     "output_type": "execute_result"
    }
   ],
   "source": [
    "y_train[1]"
   ]
  },
  {
   "cell_type": "code",
   "execution_count": null,
   "metadata": {
    "ExecuteTime": {
     "end_time": "2021-11-10T23:09:12.934920Z",
     "start_time": "2021-11-10T23:09:12.932377Z"
    },
    "id": "W8SlnCaEcqJL"
   },
   "outputs": [],
   "source": [
    "## In case you have multi-labeles\n",
    "## We need to decode y here\n",
    "# y_train_encoded = tf.keras.utils.to_categorical(y_train)\n",
    "# y_test_encoded = tf.keras.utils.to_categorical(y_test)"
   ]
  },
  {
   "cell_type": "markdown",
   "metadata": {
    "id": "Rec0gGgBcqJP"
   },
   "source": [
    "### Let' pad x_train to make sure they are all of the same length"
   ]
  },
  {
   "cell_type": "code",
   "execution_count": null,
   "metadata": {
    "ExecuteTime": {
     "end_time": "2021-11-10T23:09:12.942425Z",
     "start_time": "2021-11-10T23:09:12.936411Z"
    },
    "id": "raj_dB90cqJR",
    "outputId": "2601efe0-329a-45fb-adae-02a919c73431"
   },
   "outputs": [
    {
     "data": {
      "text/plain": [
       "(218, 189)"
      ]
     },
     "execution_count": 10,
     "metadata": {},
     "output_type": "execute_result"
    }
   ],
   "source": [
    "len(x_train[0]), len(x_train[1])"
   ]
  },
  {
   "cell_type": "code",
   "execution_count": 9,
   "metadata": {
    "ExecuteTime": {
     "end_time": "2021-11-10T23:09:12.957477Z",
     "start_time": "2021-11-10T23:09:12.943687Z"
    },
    "colab": {
     "base_uri": "https://localhost:8080/"
    },
    "executionInfo": {
     "elapsed": 275,
     "status": "ok",
     "timestamp": 1656764008379,
     "user": {
      "displayName": "Wssam Hassan",
      "userId": "16924058918477820692"
     },
     "user_tz": -120
    },
    "id": "WlH9ld9VcqJT",
    "outputId": "774d2284-1437-4f53-dea9-51e1d4288420"
   },
   "outputs": [
    {
     "name": "stdout",
     "output_type": "stream",
     "text": [
      "2494\n"
     ]
    }
   ],
   "source": [
    "max_sequence_len = 0\n",
    "\n",
    "for sentence in x_train:\n",
    "    max_sequence_len = max(len(sentence), max_sequence_len)\n",
    "    \n",
    "print(max_sequence_len)"
   ]
  },
  {
   "cell_type": "markdown",
   "metadata": {
    "id": "MiGWH31gcqJV"
   },
   "source": [
    "Because this max length is too much, let's make it up to 100 "
   ]
  },
  {
   "cell_type": "code",
   "execution_count": 10,
   "metadata": {
    "ExecuteTime": {
     "end_time": "2021-11-10T23:09:12.964285Z",
     "start_time": "2021-11-10T23:09:12.958902Z"
    },
    "executionInfo": {
     "elapsed": 9,
     "status": "ok",
     "timestamp": 1656764011766,
     "user": {
      "displayName": "Wssam Hassan",
      "userId": "16924058918477820692"
     },
     "user_tz": -120
    },
    "id": "zaSBfhQmcqJW"
   },
   "outputs": [],
   "source": [
    "max_sequence_len = 100"
   ]
  },
  {
   "cell_type": "markdown",
   "metadata": {
    "id": "avEO8jpZcqJX"
   },
   "source": [
    "Now let's padd all the sentences to have that max length"
   ]
  },
  {
   "cell_type": "code",
   "execution_count": 11,
   "metadata": {
    "ExecuteTime": {
     "end_time": "2021-11-10T23:09:13.173937Z",
     "start_time": "2021-11-10T23:09:12.966575Z"
    },
    "executionInfo": {
     "elapsed": 381,
     "status": "ok",
     "timestamp": 1656764012140,
     "user": {
      "displayName": "Wssam Hassan",
      "userId": "16924058918477820692"
     },
     "user_tz": -120
    },
    "id": "Or3hgGSPcqJY"
   },
   "outputs": [],
   "source": [
    "x_train_padded = np.zeros((x_train.shape[0], max_sequence_len))\n",
    "\n",
    "for i, sent in enumerate(x_train):\n",
    "    x_train_padded[i, :len(sent)] = sent[:max_sequence_len]"
   ]
  },
  {
   "cell_type": "code",
   "execution_count": 12,
   "metadata": {
    "ExecuteTime": {
     "end_time": "2021-11-10T23:09:13.178975Z",
     "start_time": "2021-11-10T23:09:13.175477Z"
    },
    "colab": {
     "base_uri": "https://localhost:8080/"
    },
    "executionInfo": {
     "elapsed": 11,
     "status": "ok",
     "timestamp": 1656764012141,
     "user": {
      "displayName": "Wssam Hassan",
      "userId": "16924058918477820692"
     },
     "user_tz": -120
    },
    "id": "IXalJlQ1cqJZ",
    "outputId": "6fa94f06-e8e2-414c-96bc-4ec03d32aff7"
   },
   "outputs": [
    {
     "data": {
      "text/plain": [
       "(25000, 100)"
      ]
     },
     "execution_count": 12,
     "metadata": {},
     "output_type": "execute_result"
    }
   ],
   "source": [
    "x_train_padded.shape"
   ]
  },
  {
   "cell_type": "markdown",
   "metadata": {
    "id": "k104p4CdcqJa"
   },
   "source": [
    "the same for x_test"
   ]
  },
  {
   "cell_type": "code",
   "execution_count": 13,
   "metadata": {
    "ExecuteTime": {
     "end_time": "2021-11-10T23:09:13.384618Z",
     "start_time": "2021-11-10T23:09:13.180392Z"
    },
    "colab": {
     "base_uri": "https://localhost:8080/"
    },
    "executionInfo": {
     "elapsed": 323,
     "status": "ok",
     "timestamp": 1656764012456,
     "user": {
      "displayName": "Wssam Hassan",
      "userId": "16924058918477820692"
     },
     "user_tz": -120
    },
    "id": "wb-ETAh3cqJb",
    "outputId": "9aee9d94-d52b-4370-8274-fc91e0d2062b"
   },
   "outputs": [
    {
     "data": {
      "text/plain": [
       "(25000, 100)"
      ]
     },
     "execution_count": 13,
     "metadata": {},
     "output_type": "execute_result"
    }
   ],
   "source": [
    "x_test_padded = np.zeros((x_test.shape[0], max_sequence_len))\n",
    "\n",
    "for i, sent in enumerate(x_test):\n",
    "    x_test_padded[i, :len(sent)] = sent[:max_sequence_len]\n",
    "x_test_padded.shape"
   ]
  },
  {
   "cell_type": "markdown",
   "metadata": {
    "id": "jFKQ1eJ0cqJc"
   },
   "source": [
    "### Now let's build the model"
   ]
  },
  {
   "cell_type": "code",
   "execution_count": 14,
   "metadata": {
    "ExecuteTime": {
     "end_time": "2021-11-10T23:09:13.389281Z",
     "start_time": "2021-11-10T23:09:13.385986Z"
    },
    "colab": {
     "base_uri": "https://localhost:8080/"
    },
    "executionInfo": {
     "elapsed": 10,
     "status": "ok",
     "timestamp": 1656764013388,
     "user": {
      "displayName": "Wssam Hassan",
      "userId": "16924058918477820692"
     },
     "user_tz": -120
    },
    "id": "LVyTBLmKcqJc",
    "outputId": "abe5b99f-df2c-42d1-efb2-140b11d10bae"
   },
   "outputs": [
    {
     "data": {
      "text/plain": [
       "88584"
      ]
     },
     "execution_count": 14,
     "metadata": {},
     "output_type": "execute_result"
    }
   ],
   "source": [
    "# check the vocabulary size\n",
    "len(word2idx)"
   ]
  },
  {
   "cell_type": "code",
   "execution_count": 15,
   "metadata": {
    "ExecuteTime": {
     "end_time": "2021-11-10T23:09:13.395449Z",
     "start_time": "2021-11-10T23:09:13.390912Z"
    },
    "executionInfo": {
     "elapsed": 7,
     "status": "ok",
     "timestamp": 1656764013743,
     "user": {
      "displayName": "Wssam Hassan",
      "userId": "16924058918477820692"
     },
     "user_tz": -120
    },
    "id": "7e8FcZm6cqJg"
   },
   "outputs": [],
   "source": [
    "VOCAB_SIZE = len(word2idx)"
   ]
  },
  {
   "cell_type": "code",
   "execution_count": 16,
   "metadata": {
    "ExecuteTime": {
     "end_time": "2021-11-10T23:09:14.078512Z",
     "start_time": "2021-11-10T23:09:13.396684Z"
    },
    "executionInfo": {
     "elapsed": 5045,
     "status": "ok",
     "timestamp": 1656764020732,
     "user": {
      "displayName": "Wssam Hassan",
      "userId": "16924058918477820692"
     },
     "user_tz": -120
    },
    "id": "2Olgs_r2cqJh"
   },
   "outputs": [],
   "source": [
    "model = tf.keras.models.Sequential([    \n",
    "    tf.keras.layers.Embedding(VOCAB_SIZE, 64),\n",
    "    tf.keras.layers.SimpleRNN(64),\n",
    "    tf.keras.layers.Dense(64, activation='relu'),\n",
    "    tf.keras.layers.Dense(1, activation='sigmoid')\n",
    "])"
   ]
  },
  {
   "cell_type": "code",
   "execution_count": 17,
   "metadata": {
    "colab": {
     "base_uri": "https://localhost:8080/"
    },
    "executionInfo": {
     "elapsed": 32,
     "status": "ok",
     "timestamp": 1656764027487,
     "user": {
      "displayName": "Wssam Hassan",
      "userId": "16924058918477820692"
     },
     "user_tz": -120
    },
    "id": "W5LRsDL_1KxU",
    "outputId": "9d83469a-2ab2-441f-f250-5be66481514a"
   },
   "outputs": [
    {
     "name": "stdout",
     "output_type": "stream",
     "text": [
      "Model: \"sequential\"\n",
      "_________________________________________________________________\n",
      " Layer (type)                Output Shape              Param #   \n",
      "=================================================================\n",
      " embedding (Embedding)       (None, None, 64)          5669376   \n",
      "                                                                 \n",
      " simple_rnn (SimpleRNN)      (None, 64)                8256      \n",
      "                                                                 \n",
      " dense (Dense)               (None, 64)                4160      \n",
      "                                                                 \n",
      " dense_1 (Dense)             (None, 1)                 65        \n",
      "                                                                 \n",
      "=================================================================\n",
      "Total params: 5,681,857\n",
      "Trainable params: 5,681,857\n",
      "Non-trainable params: 0\n",
      "_________________________________________________________________\n"
     ]
    }
   ],
   "source": [
    "model.summary()"
   ]
  },
  {
   "cell_type": "code",
   "execution_count": null,
   "metadata": {
    "ExecuteTime": {
     "end_time": "2021-11-10T23:09:14.093021Z",
     "start_time": "2021-11-10T23:09:14.080136Z"
    },
    "id": "aSHKtFxecqJh"
   },
   "outputs": [],
   "source": [
    "model.compile(loss=tf.keras.losses.BinaryCrossentropy(),\n",
    "              optimizer=tf.keras.optimizers.Adam(),\n",
    "              metrics=['accuracy'])"
   ]
  },
  {
   "cell_type": "code",
   "execution_count": null,
   "metadata": {
    "ExecuteTime": {
     "end_time": "2021-11-10T23:10:05.304995Z",
     "start_time": "2021-11-10T23:09:14.094710Z"
    },
    "id": "Yi2bv4BPcqJi",
    "outputId": "5d0a2040-1d5e-49dd-9564-93211f43f99a",
    "scrolled": false
   },
   "outputs": [
    {
     "name": "stdout",
     "output_type": "stream",
     "text": [
      "Epoch 1/5\n",
      "WARNING:tensorflow:AutoGraph could not transform <function Model.make_train_function.<locals>.train_function at 0x7fcdd7034dd0> and will run it as-is.\n",
      "Please report this to the TensorFlow team. When filing the bug, set the verbosity to 10 (on Linux, `export AUTOGRAPH_VERBOSITY=10`) and attach the full output.\n",
      "Cause: 'arguments' object has no attribute 'posonlyargs'\n",
      "To silence this warning, decorate the function with @tf.autograph.experimental.do_not_convert\n",
      "WARNING: AutoGraph could not transform <function Model.make_train_function.<locals>.train_function at 0x7fcdd7034dd0> and will run it as-is.\n",
      "Please report this to the TensorFlow team. When filing the bug, set the verbosity to 10 (on Linux, `export AUTOGRAPH_VERBOSITY=10`) and attach the full output.\n",
      "Cause: 'arguments' object has no attribute 'posonlyargs'\n",
      "To silence this warning, decorate the function with @tf.autograph.experimental.do_not_convert\n",
      "195/196 [============================>.] - ETA: 0s - loss: 0.6965 - accuracy: 0.5028WARNING:tensorflow:AutoGraph could not transform <function Model.make_test_function.<locals>.test_function at 0x7fcddc917680> and will run it as-is.\n",
      "Please report this to the TensorFlow team. When filing the bug, set the verbosity to 10 (on Linux, `export AUTOGRAPH_VERBOSITY=10`) and attach the full output.\n",
      "Cause: 'arguments' object has no attribute 'posonlyargs'\n",
      "To silence this warning, decorate the function with @tf.autograph.experimental.do_not_convert\n",
      "WARNING: AutoGraph could not transform <function Model.make_test_function.<locals>.test_function at 0x7fcddc917680> and will run it as-is.\n",
      "Please report this to the TensorFlow team. When filing the bug, set the verbosity to 10 (on Linux, `export AUTOGRAPH_VERBOSITY=10`) and attach the full output.\n",
      "Cause: 'arguments' object has no attribute 'posonlyargs'\n",
      "To silence this warning, decorate the function with @tf.autograph.experimental.do_not_convert\n",
      "196/196 [==============================] - 11s 52ms/step - loss: 0.6965 - accuracy: 0.5030 - val_loss: 0.6914 - val_accuracy: 0.5315\n",
      "Epoch 2/5\n",
      "196/196 [==============================] - 10s 50ms/step - loss: 0.6756 - accuracy: 0.5848 - val_loss: 0.6926 - val_accuracy: 0.5362\n",
      "Epoch 3/5\n",
      "196/196 [==============================] - 10s 51ms/step - loss: 0.4335 - accuracy: 0.7938 - val_loss: 0.6672 - val_accuracy: 0.6859\n",
      "Epoch 4/5\n",
      "196/196 [==============================] - 10s 51ms/step - loss: 0.1165 - accuracy: 0.9485 - val_loss: 1.1850 - val_accuracy: 0.5570\n",
      "Epoch 5/5\n",
      "196/196 [==============================] - 10s 51ms/step - loss: 0.0508 - accuracy: 0.9779 - val_loss: 1.3593 - val_accuracy: 0.5755\n"
     ]
    }
   ],
   "source": [
    "history = model.fit(x_train_padded, y_train, epochs=5, batch_size=128,\n",
    "                    validation_data=(x_test_padded, y_test), \n",
    "                    validation_steps=30)"
   ]
  },
  {
   "cell_type": "code",
   "execution_count": null,
   "metadata": {
    "ExecuteTime": {
     "end_time": "2021-11-10T23:10:11.838527Z",
     "start_time": "2021-11-10T23:10:05.306569Z"
    },
    "id": "nr6rbl2QcqJj",
    "outputId": "3a970aad-8a1e-41d3-8f71-575ca1d744ac",
    "scrolled": false
   },
   "outputs": [
    {
     "name": "stdout",
     "output_type": "stream",
     "text": [
      "782/782 [==============================] - 6s 8ms/step - loss: 1.4137 - accuracy: 0.5702\n",
      "Test Loss: 1.4137216806411743\n",
      "Test Accuracy: 0.5701599717140198\n"
     ]
    }
   ],
   "source": [
    "test_loss, test_acc = model.evaluate(x_test_padded, y_test)\n",
    "\n",
    "print('Test Loss: {}'.format(test_loss))\n",
    "print('Test Accuracy: {}'.format(test_acc))"
   ]
  },
  {
   "cell_type": "markdown",
   "metadata": {
    "id": "R0auX1wucqJk"
   },
   "source": [
    "### Can we make it work in both directions ?"
   ]
  },
  {
   "cell_type": "code",
   "execution_count": null,
   "metadata": {
    "ExecuteTime": {
     "end_time": "2021-11-10T23:10:12.066337Z",
     "start_time": "2021-11-10T23:10:11.840733Z"
    },
    "id": "LpSovZyjcqJl"
   },
   "outputs": [],
   "source": [
    "model_bi = tf.keras.models.Sequential([    \n",
    "    tf.keras.layers.Embedding(VOCAB_SIZE, 64),\n",
    "    tf.keras.layers.Bidirectional(tf.keras.layers.SimpleRNN(64, return_sequences=True)),\n",
    "    tf.keras.layers.Bidirectional(tf.keras.layers.SimpleRNN(64)),\n",
    "    tf.keras.layers.Dense(64, activation='relu'),\n",
    "    tf.keras.layers.Dense(1, activation='sigmoid')\n",
    "])"
   ]
  },
  {
   "cell_type": "code",
   "execution_count": null,
   "metadata": {
    "ExecuteTime": {
     "end_time": "2021-11-10T23:10:12.077528Z",
     "start_time": "2021-11-10T23:10:12.069873Z"
    },
    "id": "f_6rVQBjcqJl"
   },
   "outputs": [],
   "source": [
    "model_bi.compile(loss=tf.keras.losses.BinaryCrossentropy(),\n",
    "              optimizer=tf.keras.optimizers.Adam(),\n",
    "              metrics=['accuracy'])"
   ]
  },
  {
   "cell_type": "code",
   "execution_count": null,
   "metadata": {
    "ExecuteTime": {
     "end_time": "2021-11-10T23:13:27.271531Z",
     "start_time": "2021-11-10T23:10:12.079011Z"
    },
    "id": "kWvK-0I4cqJm",
    "outputId": "880caf98-b43d-473a-f9dd-d1c1c3e25439"
   },
   "outputs": [
    {
     "name": "stdout",
     "output_type": "stream",
     "text": [
      "Epoch 1/5\n",
      "WARNING:tensorflow:AutoGraph could not transform <function Model.make_train_function.<locals>.train_function at 0x7fcde10c23b0> and will run it as-is.\n",
      "Please report this to the TensorFlow team. When filing the bug, set the verbosity to 10 (on Linux, `export AUTOGRAPH_VERBOSITY=10`) and attach the full output.\n",
      "Cause: 'arguments' object has no attribute 'posonlyargs'\n",
      "To silence this warning, decorate the function with @tf.autograph.experimental.do_not_convert\n",
      "WARNING: AutoGraph could not transform <function Model.make_train_function.<locals>.train_function at 0x7fcde10c23b0> and will run it as-is.\n",
      "Please report this to the TensorFlow team. When filing the bug, set the verbosity to 10 (on Linux, `export AUTOGRAPH_VERBOSITY=10`) and attach the full output.\n",
      "Cause: 'arguments' object has no attribute 'posonlyargs'\n",
      "To silence this warning, decorate the function with @tf.autograph.experimental.do_not_convert\n",
      "196/196 [==============================] - ETA: 0s - loss: 0.6641 - accuracy: 0.5711WARNING:tensorflow:AutoGraph could not transform <function Model.make_test_function.<locals>.test_function at 0x7fcddd364440> and will run it as-is.\n",
      "Please report this to the TensorFlow team. When filing the bug, set the verbosity to 10 (on Linux, `export AUTOGRAPH_VERBOSITY=10`) and attach the full output.\n",
      "Cause: 'arguments' object has no attribute 'posonlyargs'\n",
      "To silence this warning, decorate the function with @tf.autograph.experimental.do_not_convert\n",
      "WARNING: AutoGraph could not transform <function Model.make_test_function.<locals>.test_function at 0x7fcddd364440> and will run it as-is.\n",
      "Please report this to the TensorFlow team. When filing the bug, set the verbosity to 10 (on Linux, `export AUTOGRAPH_VERBOSITY=10`) and attach the full output.\n",
      "Cause: 'arguments' object has no attribute 'posonlyargs'\n",
      "To silence this warning, decorate the function with @tf.autograph.experimental.do_not_convert\n",
      "196/196 [==============================] - 41s 199ms/step - loss: 0.6641 - accuracy: 0.5711 - val_loss: 0.5266 - val_accuracy: 0.7563\n",
      "Epoch 2/5\n",
      "196/196 [==============================] - 38s 195ms/step - loss: 0.3790 - accuracy: 0.8404 - val_loss: 0.4278 - val_accuracy: 0.8107\n",
      "Epoch 3/5\n",
      "196/196 [==============================] - 39s 200ms/step - loss: 0.1781 - accuracy: 0.9361 - val_loss: 0.7297 - val_accuracy: 0.7680\n",
      "Epoch 4/5\n",
      "196/196 [==============================] - 38s 194ms/step - loss: 0.0740 - accuracy: 0.9744 - val_loss: 0.7736 - val_accuracy: 0.7839\n",
      "Epoch 5/5\n",
      "196/196 [==============================] - 39s 197ms/step - loss: 0.0446 - accuracy: 0.9852 - val_loss: 0.8923 - val_accuracy: 0.7549\n"
     ]
    }
   ],
   "source": [
    "history = model_bi.fit(x_train_padded, y_train, epochs=5, batch_size=128,\n",
    "                    validation_data=(x_test_padded, y_test), \n",
    "                    validation_steps=30)"
   ]
  },
  {
   "cell_type": "code",
   "execution_count": null,
   "metadata": {
    "ExecuteTime": {
     "end_time": "2021-11-10T23:13:48.156206Z",
     "start_time": "2021-11-10T23:13:27.272981Z"
    },
    "id": "II7XMs5RcqJn",
    "outputId": "2a3fd0be-719c-4df6-bb65-655d7b90f9a9"
   },
   "outputs": [
    {
     "name": "stdout",
     "output_type": "stream",
     "text": [
      "782/782 [==============================] - 21s 27ms/step - loss: 0.9120 - accuracy: 0.7532\n",
      "Test Loss: 0.9120156168937683\n",
      "Test Accuracy: 0.7532399892807007\n"
     ]
    }
   ],
   "source": [
    "test_loss, test_acc = model_bi.evaluate(x_test_padded, y_test)\n",
    "\n",
    "print('Test Loss: {}'.format(test_loss))\n",
    "print('Test Accuracy: {}'.format(test_acc))"
   ]
  },
  {
   "cell_type": "markdown",
   "metadata": {
    "id": "x6jKIFRbcqJo"
   },
   "source": [
    "### Ops, i forgot !\n",
    "\n",
    "* One of the RNN drawback is that it tends to forget what it saw early in the sequence, because it will vanish eventually.\n",
    "\n",
    "* Also the gradient of the RNN cell is very likely to vanish or explode.\n",
    "\n",
    "To solve these issue, two different versions of the SimpleRNN were proposed.\n",
    "\n",
    "## Gated Recurrent Unit (GRU)\n",
    "\n",
    "The GRU cell replaces the Simple rnn cell, and adds a **gate** to the network, this gates allows the network to choose what to keep from the previous state, and thus can keep track of some memories, and also solves the vanishing gradient problem.\n",
    "\n",
    "<center><img src='https://technopremium.com/blog/wp-content/uploads/2019/06/gru.png'></center>\n",
    "<center><a href='https://technopremium.com/blog/rnn-talking-about-gated-recurrent-unit/'>source</a></center>\n",
    "\n",
    "Without much math details, the gates here allows to forget certain points of the hidden states.\n",
    "\n",
    "The simplified version of the equations are as follows\n",
    "\n",
    "<center><img src='images/gru.png'></center>\n",
    "\n",
    "Here we say that $C^t = a^t = h^t$ meaning that that output state/hidden state are the same\n",
    "\n",
    "The parameter $\\tilde{C}$ is the candidate to replace vector, which will include the candidate hidden state\n",
    "\n",
    "$$\\tilde{C} = tanh(W_c [C^{t-1}, X^t] + b_c)$$\n",
    "\n",
    "The gate $\\Gamma_u$ is the gate that will tell which to forget of the last state and which to remember.\n",
    "\n",
    "$$\\Gamma_u = \\sigma(W_u [C^{t-1}, X^t] + b_u)$$\n",
    "\n",
    "The parameter $C^t$ includes the final output of the cell\n",
    "\n",
    "$$C^t = \\Gamma_u*\\tilde{C} + (1-\\Gamma_u)* C^{t-1}$$\n",
    "\n",
    "So: \n",
    "\n",
    "- if $\\Gamma_u=0$ then $C^t = C^{t-1}$ \n",
    "- if $\\Gamma_u=1$ then $C^t = \\tilde{C}$ "
   ]
  },
  {
   "cell_type": "markdown",
   "metadata": {
    "id": "H80lcaIJcqJp"
   },
   "source": [
    "### Implementing GRU in Tensorflow\n",
    "\n",
    "The implementation will be as simple as replacing one line of the code above"
   ]
  },
  {
   "cell_type": "code",
   "execution_count": null,
   "metadata": {
    "ExecuteTime": {
     "end_time": "2021-11-10T23:13:48.911899Z",
     "start_time": "2021-11-10T23:13:48.157263Z"
    },
    "id": "0hsF4ZlMcqJq"
   },
   "outputs": [],
   "source": [
    "gru_bi = tf.keras.models.Sequential([    \n",
    "    tf.keras.layers.Embedding(VOCAB_SIZE, 64),\n",
    "    tf.keras.layers.Bidirectional(tf.keras.layers.GRU(64, return_sequences=True)),\n",
    "    tf.keras.layers.Bidirectional(tf.keras.layers.GRU(64)),\n",
    "    tf.keras.layers.Dense(64, activation='relu'),\n",
    "    tf.keras.layers.Dense(1, activation='sigmoid')\n",
    "])"
   ]
  },
  {
   "cell_type": "code",
   "execution_count": null,
   "metadata": {
    "ExecuteTime": {
     "end_time": "2021-11-10T23:13:48.920442Z",
     "start_time": "2021-11-10T23:13:48.913216Z"
    },
    "id": "j_9so18bcqJr"
   },
   "outputs": [],
   "source": [
    "gru_bi.compile(loss=tf.keras.losses.BinaryCrossentropy(),\n",
    "              optimizer=tf.keras.optimizers.Adam(),\n",
    "              metrics=['accuracy'])"
   ]
  },
  {
   "cell_type": "code",
   "execution_count": null,
   "metadata": {
    "ExecuteTime": {
     "end_time": "2021-11-10T23:14:35.024289Z",
     "start_time": "2021-11-10T23:13:48.921801Z"
    },
    "id": "tCGvZ558cqJs",
    "outputId": "433cb29c-dcc6-4547-8666-895fb3f8b914"
   },
   "outputs": [
    {
     "name": "stdout",
     "output_type": "stream",
     "text": [
      "Epoch 1/5\n",
      "WARNING:tensorflow:AutoGraph could not transform <function Model.make_train_function.<locals>.train_function at 0x7fcdde206560> and will run it as-is.\n",
      "Please report this to the TensorFlow team. When filing the bug, set the verbosity to 10 (on Linux, `export AUTOGRAPH_VERBOSITY=10`) and attach the full output.\n",
      "Cause: 'arguments' object has no attribute 'posonlyargs'\n",
      "To silence this warning, decorate the function with @tf.autograph.experimental.do_not_convert\n",
      "WARNING: AutoGraph could not transform <function Model.make_train_function.<locals>.train_function at 0x7fcdde206560> and will run it as-is.\n",
      "Please report this to the TensorFlow team. When filing the bug, set the verbosity to 10 (on Linux, `export AUTOGRAPH_VERBOSITY=10`) and attach the full output.\n",
      "Cause: 'arguments' object has no attribute 'posonlyargs'\n",
      "To silence this warning, decorate the function with @tf.autograph.experimental.do_not_convert\n",
      "195/196 [============================>.] - ETA: 0s - loss: 0.5207 - accuracy: 0.7160WARNING:tensorflow:AutoGraph could not transform <function Model.make_test_function.<locals>.test_function at 0x7fcddc9b9b00> and will run it as-is.\n",
      "Please report this to the TensorFlow team. When filing the bug, set the verbosity to 10 (on Linux, `export AUTOGRAPH_VERBOSITY=10`) and attach the full output.\n",
      "Cause: 'arguments' object has no attribute 'posonlyargs'\n",
      "To silence this warning, decorate the function with @tf.autograph.experimental.do_not_convert\n",
      "WARNING: AutoGraph could not transform <function Model.make_test_function.<locals>.test_function at 0x7fcddc9b9b00> and will run it as-is.\n",
      "Please report this to the TensorFlow team. When filing the bug, set the verbosity to 10 (on Linux, `export AUTOGRAPH_VERBOSITY=10`) and attach the full output.\n",
      "Cause: 'arguments' object has no attribute 'posonlyargs'\n",
      "To silence this warning, decorate the function with @tf.autograph.experimental.do_not_convert\n",
      "196/196 [==============================] - 14s 46ms/step - loss: 0.5203 - accuracy: 0.7164 - val_loss: 0.4194 - val_accuracy: 0.8099\n",
      "Epoch 2/5\n",
      "196/196 [==============================] - 8s 39ms/step - loss: 0.2486 - accuracy: 0.9024 - val_loss: 0.4735 - val_accuracy: 0.8076\n",
      "Epoch 3/5\n",
      "196/196 [==============================] - 8s 43ms/step - loss: 0.1185 - accuracy: 0.9587 - val_loss: 0.6125 - val_accuracy: 0.7812\n",
      "Epoch 4/5\n",
      "196/196 [==============================] - 8s 40ms/step - loss: 0.0505 - accuracy: 0.9826 - val_loss: 0.8394 - val_accuracy: 0.7870\n",
      "Epoch 5/5\n",
      "196/196 [==============================] - 8s 41ms/step - loss: 0.0249 - accuracy: 0.9924 - val_loss: 0.9167 - val_accuracy: 0.7656\n"
     ]
    }
   ],
   "source": [
    "history = gru_bi.fit(x_train_padded, y_train, epochs=5, batch_size=128,\n",
    "                    validation_data=(x_test_padded, y_test), \n",
    "                    validation_steps=30)"
   ]
  },
  {
   "cell_type": "code",
   "execution_count": null,
   "metadata": {
    "ExecuteTime": {
     "end_time": "2021-11-10T23:14:41.098913Z",
     "start_time": "2021-11-10T23:14:35.026181Z"
    },
    "id": "MDgUdZ6ucqJu",
    "outputId": "62a6e5e5-ac5a-424a-d17f-31aa076b0175"
   },
   "outputs": [
    {
     "name": "stdout",
     "output_type": "stream",
     "text": [
      "782/782 [==============================] - 6s 8ms/step - loss: 0.9135 - accuracy: 0.7682\n",
      "Test Loss: 0.9134881496429443\n",
      "Test Accuracy: 0.7681999802589417\n"
     ]
    }
   ],
   "source": [
    "test_loss, test_acc = gru_bi.evaluate(x_test_padded, y_test)\n",
    "\n",
    "print('Test Loss: {}'.format(test_loss))\n",
    "print('Test Accuracy: {}'.format(test_acc))"
   ]
  },
  {
   "cell_type": "markdown",
   "metadata": {
    "id": "8ptYQNM7cqJw"
   },
   "source": [
    "### Looong sequences\n",
    "\n",
    "There is one more important architecture that you need to know before we wrap up, the LSTM\n",
    "\n",
    "## Long Short Term Memory (LSTM)\n",
    "\n",
    "<center><img src='https://colah.github.io/images/post-covers/lstm.png'></center>\n",
    "<center><a href='https://colah.github.io/posts/2015-08-Understanding-LSTMs/'>source</a></center>\n",
    "\n",
    "The lstm offers a long term memory component beside the short term one, and thus enables your model to remember things that he have seen way far in the past, let's go through the idea of the LSTM.\n",
    "\n",
    "<center><img src='images/lstm.png'></center>\n",
    "\n",
    "First the candidate new memory is calculated via the following equation\n",
    "\n",
    "$$\\tilde{C} = tanh(W_c [a^{t-1}, x^t] + b_c) $$\n",
    "\n",
    "Here we simply take the last activation output (or the short term memory) and calculate what is the candidate of it to be remembered.\n",
    "\n",
    "Then we have three gates here, update, forget and output, let's examine their equations.\n",
    "\n",
    "> update gate\n",
    "$$ \\Gamma_u = \\sigma(W_u [a^{t-1}, x^t] + b_u)$$\n",
    "\n",
    "---\n",
    "\n",
    "> forget gate\n",
    "$$\\Gamma_f = \\sigma(W_f [a^{t-1}, x^t] + b_f)$$\n",
    "\n",
    "---\n",
    "\n",
    "> output gate\n",
    "$$\\Gamma_o = \\sigma(W_o [a^{t-1}, x^t] + b_o)$$\n",
    "\n",
    "---\n",
    "\n",
    "So the three gates learn to remember, forget and update which parts of the hidden state, thus enable our model to work with relatively long sequences.\n",
    "\n",
    "Now to the outputs of our cell\n",
    "\n",
    "> the long term memory\n",
    "$$C^t = \\Gamma_u*\\tilde{C} + \\Gamma_f*C^{t-1}$$\n",
    "\n",
    "So basically update these new values that i have just learned $\\Gamma_u*\\tilde{C}$ ,and keep from the last memory what the forget gate tells you $\\Gamma_f*C^{t-1}$\n",
    "\n",
    "> the short term memory\n",
    "$$a^t = \\Gamma_o*tanh(C^t)$$\n",
    "\n",
    "just an activation function applied to the short memory learned in this step, and of course based only on the output of the $\\Gamma_o$ gate.\n",
    "\n",
    "> the output for this cell (aka prediction)\n",
    "$$y^t = softmax(w_y.a^t + b_y)$$\n",
    "\n",
    "And these together allows the LSTM to work with the large sequences without forgetting what was in the very first of the sentence, thus it can work with long sequences."
   ]
  },
  {
   "cell_type": "markdown",
   "metadata": {
    "id": "nT5-Pm-HcqJy"
   },
   "source": [
    "### Bidirectional LSTMs\n",
    "\n",
    "<center><img src='https://camo.githubusercontent.com/7c17fdb1a2a5f7d0b896c44aefe7490c47d23bfa/68747470733a2f2f7777772e64726f70626f782e636f6d2f732f696e63646a727575347839323038332f6269646972656374696f6e616c5f6c6f6e675f73686f72742d7465726d5f6d656d6f72792e706e673f7261773d31'></center>\n",
    "\n",
    "The idea is the same as in RNN and GRU, the only difference is that we change the rnn block to LSTM block!"
   ]
  },
  {
   "cell_type": "markdown",
   "metadata": {
    "id": "l6uNWDrVcqJ0"
   },
   "source": [
    "### Long sequence ?\n",
    "\n",
    "Now we can let go the sequence length that we limited above !"
   ]
  },
  {
   "cell_type": "code",
   "execution_count": null,
   "metadata": {
    "ExecuteTime": {
     "end_time": "2021-11-10T23:14:41.110901Z",
     "start_time": "2021-11-10T23:14:41.100055Z"
    },
    "id": "tsGAsy9IcqJ1",
    "outputId": "75597954-8139-4f68-e06b-8a6bc140f657"
   },
   "outputs": [
    {
     "name": "stdout",
     "output_type": "stream",
     "text": [
      "2494\n"
     ]
    }
   ],
   "source": [
    "max_sequence_len = 0\n",
    "for sentence in x_train:\n",
    "    max_sequence_len = max(len(sentence), max_sequence_len)\n",
    "print(max_sequence_len)"
   ]
  },
  {
   "cell_type": "code",
   "execution_count": null,
   "metadata": {
    "ExecuteTime": {
     "end_time": "2021-11-10T23:14:41.581895Z",
     "start_time": "2021-11-10T23:14:41.112242Z"
    },
    "id": "-XOYFJGXcqJ2"
   },
   "outputs": [],
   "source": [
    "x_train_padded = np.zeros((x_train.shape[0], max_sequence_len))\n",
    "for i, sent in enumerate(x_train):\n",
    "    x_train_padded[i, :len(sent)] = sent[:max_sequence_len]"
   ]
  },
  {
   "cell_type": "code",
   "execution_count": null,
   "metadata": {
    "ExecuteTime": {
     "end_time": "2021-11-10T23:14:41.586540Z",
     "start_time": "2021-11-10T23:14:41.583203Z"
    },
    "id": "Cv13ijHLcqJ4",
    "outputId": "52df51db-6317-43b4-e938-9a95b3d7f810"
   },
   "outputs": [
    {
     "data": {
      "text/plain": [
       "(25000, 2494)"
      ]
     },
     "execution_count": 32,
     "metadata": {},
     "output_type": "execute_result"
    }
   ],
   "source": [
    "x_train_padded.shape"
   ]
  },
  {
   "cell_type": "markdown",
   "metadata": {
    "id": "LG4unRFkcqJ4"
   },
   "source": [
    "the same for x_test"
   ]
  },
  {
   "cell_type": "code",
   "execution_count": null,
   "metadata": {
    "ExecuteTime": {
     "end_time": "2021-11-10T23:14:42.043495Z",
     "start_time": "2021-11-10T23:14:41.588093Z"
    },
    "id": "YE3jyC_FcqJ5",
    "outputId": "12f2b8f1-9c1d-4c1f-e04c-101958e5b02d"
   },
   "outputs": [
    {
     "data": {
      "text/plain": [
       "(25000, 2494)"
      ]
     },
     "execution_count": 33,
     "metadata": {},
     "output_type": "execute_result"
    }
   ],
   "source": [
    "x_test_padded = np.zeros((x_test.shape[0], max_sequence_len))\n",
    "for i, sent in enumerate(x_test):\n",
    "    x_test_padded[i, :len(sent)] = sent[:max_sequence_len]\n",
    "x_test_padded.shape"
   ]
  },
  {
   "cell_type": "code",
   "execution_count": null,
   "metadata": {
    "ExecuteTime": {
     "end_time": "2021-11-10T23:14:42.403244Z",
     "start_time": "2021-11-10T23:14:42.044776Z"
    },
    "id": "hOZsXMWocqJ6"
   },
   "outputs": [],
   "source": [
    "lstm_bi = tf.keras.models.Sequential([    \n",
    "    tf.keras.layers.Embedding(VOCAB_SIZE, 64),\n",
    "    tf.keras.layers.Bidirectional(tf.keras.layers.LSTM(64)),\n",
    "    tf.keras.layers.Dense(64, activation='relu'),\n",
    "    tf.keras.layers.Dense(1, activation='softmax')\n",
    "])"
   ]
  },
  {
   "cell_type": "code",
   "execution_count": null,
   "metadata": {
    "ExecuteTime": {
     "end_time": "2021-11-10T23:14:42.411618Z",
     "start_time": "2021-11-10T23:14:42.404755Z"
    },
    "id": "Qupvgl26cqJ7"
   },
   "outputs": [],
   "source": [
    "lstm_bi.compile(loss=tf.keras.losses.BinaryCrossentropy(),\n",
    "              optimizer=tf.keras.optimizers.Adam(),\n",
    "              metrics=['accuracy'])"
   ]
  },
  {
   "cell_type": "code",
   "execution_count": null,
   "metadata": {
    "ExecuteTime": {
     "end_time": "2021-11-10T23:17:06.952054Z",
     "start_time": "2021-11-10T23:14:42.412757Z"
    },
    "id": "jI4KC6v-cqJ8",
    "outputId": "0650d180-2c79-41aa-a851-393bae5a80d8"
   },
   "outputs": [
    {
     "name": "stdout",
     "output_type": "stream",
     "text": [
      "Epoch 1/5\n",
      "WARNING:tensorflow:AutoGraph could not transform <function Model.make_train_function.<locals>.train_function at 0x7fcddbebbdd0> and will run it as-is.\n",
      "Please report this to the TensorFlow team. When filing the bug, set the verbosity to 10 (on Linux, `export AUTOGRAPH_VERBOSITY=10`) and attach the full output.\n",
      "Cause: 'arguments' object has no attribute 'posonlyargs'\n",
      "To silence this warning, decorate the function with @tf.autograph.experimental.do_not_convert\n",
      "WARNING: AutoGraph could not transform <function Model.make_train_function.<locals>.train_function at 0x7fcddbebbdd0> and will run it as-is.\n",
      "Please report this to the TensorFlow team. When filing the bug, set the verbosity to 10 (on Linux, `export AUTOGRAPH_VERBOSITY=10`) and attach the full output.\n",
      "Cause: 'arguments' object has no attribute 'posonlyargs'\n",
      "To silence this warning, decorate the function with @tf.autograph.experimental.do_not_convert\n",
      "782/782 [==============================] - ETA: 0s - loss: 0.4629 - accuracy: 0.7864WARNING:tensorflow:AutoGraph could not transform <function Model.make_test_function.<locals>.test_function at 0x7fcddb798d40> and will run it as-is.\n",
      "Please report this to the TensorFlow team. When filing the bug, set the verbosity to 10 (on Linux, `export AUTOGRAPH_VERBOSITY=10`) and attach the full output.\n",
      "Cause: 'arguments' object has no attribute 'posonlyargs'\n",
      "To silence this warning, decorate the function with @tf.autograph.experimental.do_not_convert\n",
      "WARNING: AutoGraph could not transform <function Model.make_test_function.<locals>.test_function at 0x7fcddb798d40> and will run it as-is.\n",
      "Please report this to the TensorFlow team. When filing the bug, set the verbosity to 10 (on Linux, `export AUTOGRAPH_VERBOSITY=10`) and attach the full output.\n",
      "Cause: 'arguments' object has no attribute 'posonlyargs'\n",
      "To silence this warning, decorate the function with @tf.autograph.experimental.do_not_convert\n"
     ]
    },
    {
     "ename": "InternalError",
     "evalue": "   Failed to call ThenRnnForward with model config: [rnn_mode, rnn_input_mode, rnn_direction_mode]: 2, 0, 0 , [num_layers, input_size, num_units, dir_count, max_seq_length, batch_size, cell_num_units]: [1, 64, 64, 1, 2494, 834, 64] \n\t [[{{node CudnnRNN}}]]\n\t [[sequential_3/bidirectional_4/forward_lstm/PartitionedCall]] [Op:__inference_test_function_52724]\n\nFunction call stack:\ntest_function -> test_function -> test_function\n",
     "output_type": "error",
     "traceback": [
      "\u001b[0;31m---------------------------------------------------------------------------\u001b[0m",
      "\u001b[0;31mInternalError\u001b[0m                             Traceback (most recent call last)",
      "\u001b[0;32m<ipython-input-36-17daa0c19a7d>\u001b[0m in \u001b[0;36m<module>\u001b[0;34m\u001b[0m\n\u001b[1;32m      1\u001b[0m history = lstm_bi.fit(x_train_padded, y_train, epochs=5,\n\u001b[1;32m      2\u001b[0m                     \u001b[0mvalidation_data\u001b[0m\u001b[0;34m=\u001b[0m\u001b[0;34m(\u001b[0m\u001b[0mx_test_padded\u001b[0m\u001b[0;34m,\u001b[0m \u001b[0my_test\u001b[0m\u001b[0;34m)\u001b[0m\u001b[0;34m,\u001b[0m\u001b[0;34m\u001b[0m\u001b[0;34m\u001b[0m\u001b[0m\n\u001b[0;32m----> 3\u001b[0;31m                     validation_steps=30)\n\u001b[0m",
      "\u001b[0;32m~/anaconda3/lib/python3.7/site-packages/keras/utils/traceback_utils.py\u001b[0m in \u001b[0;36merror_handler\u001b[0;34m(*args, **kwargs)\u001b[0m\n\u001b[1;32m     65\u001b[0m     \u001b[0;32mexcept\u001b[0m \u001b[0mException\u001b[0m \u001b[0;32mas\u001b[0m \u001b[0me\u001b[0m\u001b[0;34m:\u001b[0m  \u001b[0;31m# pylint: disable=broad-except\u001b[0m\u001b[0;34m\u001b[0m\u001b[0;34m\u001b[0m\u001b[0m\n\u001b[1;32m     66\u001b[0m       \u001b[0mfiltered_tb\u001b[0m \u001b[0;34m=\u001b[0m \u001b[0m_process_traceback_frames\u001b[0m\u001b[0;34m(\u001b[0m\u001b[0me\u001b[0m\u001b[0;34m.\u001b[0m\u001b[0m__traceback__\u001b[0m\u001b[0;34m)\u001b[0m\u001b[0;34m\u001b[0m\u001b[0;34m\u001b[0m\u001b[0m\n\u001b[0;32m---> 67\u001b[0;31m       \u001b[0;32mraise\u001b[0m \u001b[0me\u001b[0m\u001b[0;34m.\u001b[0m\u001b[0mwith_traceback\u001b[0m\u001b[0;34m(\u001b[0m\u001b[0mfiltered_tb\u001b[0m\u001b[0;34m)\u001b[0m \u001b[0;32mfrom\u001b[0m \u001b[0;32mNone\u001b[0m\u001b[0;34m\u001b[0m\u001b[0;34m\u001b[0m\u001b[0m\n\u001b[0m\u001b[1;32m     68\u001b[0m     \u001b[0;32mfinally\u001b[0m\u001b[0;34m:\u001b[0m\u001b[0;34m\u001b[0m\u001b[0;34m\u001b[0m\u001b[0m\n\u001b[1;32m     69\u001b[0m       \u001b[0;32mdel\u001b[0m \u001b[0mfiltered_tb\u001b[0m\u001b[0;34m\u001b[0m\u001b[0;34m\u001b[0m\u001b[0m\n",
      "\u001b[0;32m~/anaconda3/lib/python3.7/site-packages/tensorflow/python/eager/execute.py\u001b[0m in \u001b[0;36mquick_execute\u001b[0;34m(op_name, num_outputs, inputs, attrs, ctx, name)\u001b[0m\n\u001b[1;32m     57\u001b[0m     \u001b[0mctx\u001b[0m\u001b[0;34m.\u001b[0m\u001b[0mensure_initialized\u001b[0m\u001b[0;34m(\u001b[0m\u001b[0;34m)\u001b[0m\u001b[0;34m\u001b[0m\u001b[0;34m\u001b[0m\u001b[0m\n\u001b[1;32m     58\u001b[0m     tensors = pywrap_tfe.TFE_Py_Execute(ctx._handle, device_name, op_name,\n\u001b[0;32m---> 59\u001b[0;31m                                         inputs, attrs, num_outputs)\n\u001b[0m\u001b[1;32m     60\u001b[0m   \u001b[0;32mexcept\u001b[0m \u001b[0mcore\u001b[0m\u001b[0;34m.\u001b[0m\u001b[0m_NotOkStatusException\u001b[0m \u001b[0;32mas\u001b[0m \u001b[0me\u001b[0m\u001b[0;34m:\u001b[0m\u001b[0;34m\u001b[0m\u001b[0;34m\u001b[0m\u001b[0m\n\u001b[1;32m     61\u001b[0m     \u001b[0;32mif\u001b[0m \u001b[0mname\u001b[0m \u001b[0;32mis\u001b[0m \u001b[0;32mnot\u001b[0m \u001b[0;32mNone\u001b[0m\u001b[0;34m:\u001b[0m\u001b[0;34m\u001b[0m\u001b[0;34m\u001b[0m\u001b[0m\n",
      "\u001b[0;31mInternalError\u001b[0m:    Failed to call ThenRnnForward with model config: [rnn_mode, rnn_input_mode, rnn_direction_mode]: 2, 0, 0 , [num_layers, input_size, num_units, dir_count, max_seq_length, batch_size, cell_num_units]: [1, 64, 64, 1, 2494, 834, 64] \n\t [[{{node CudnnRNN}}]]\n\t [[sequential_3/bidirectional_4/forward_lstm/PartitionedCall]] [Op:__inference_test_function_52724]\n\nFunction call stack:\ntest_function -> test_function -> test_function\n"
     ]
    }
   ],
   "source": [
    "history = lstm_bi.fit(x_train_padded, y_train, epochs=5,\n",
    "                    validation_data=(x_test_padded, y_test), \n",
    "                    validation_steps=30)"
   ]
  },
  {
   "cell_type": "code",
   "execution_count": null,
   "metadata": {
    "ExecuteTime": {
     "end_time": "2021-11-10T23:17:06.953817Z",
     "start_time": "2021-11-10T23:09:06.532Z"
    },
    "id": "EW5hVuGgcqJ8"
   },
   "outputs": [],
   "source": [
    "test_loss, test_acc = lstm_bi.evaluate(x_test_padded, y_test)\n",
    "\n",
    "print('Test Loss: {}'.format(test_loss))\n",
    "print('Test Accuracy: {}'.format(test_acc))"
   ]
  },
  {
   "cell_type": "markdown",
   "metadata": {
    "id": "c5_QZRC3cqJ9"
   },
   "source": [
    "> run the next cell to store the models"
   ]
  },
  {
   "cell_type": "raw",
   "metadata": {
    "ExecuteTime": {
     "end_time": "2021-11-08T05:50:51.479697Z",
     "start_time": "2021-11-08T05:50:19.057787Z"
    },
    "id": "EZdfVWUicqKA"
   },
   "source": [
    "# let's just save our models\n",
    "# save the rnn\n",
    "model.save('models/rnn')\n",
    "# save the rnn_bi\n",
    "model_bi.save('models/rnn_bi')\n",
    "# save the gru_bi\n",
    "gru_bi.save('models/gru_bi')\n",
    "# save the lstm model\n",
    "lstm_bi.save('models/lstm_bi')"
   ]
  },
  {
   "cell_type": "markdown",
   "metadata": {
    "id": "a4etpbcdcqKD"
   },
   "source": [
    "### How can we predict an input given these models ?"
   ]
  },
  {
   "cell_type": "code",
   "execution_count": null,
   "metadata": {
    "ExecuteTime": {
     "end_time": "2021-11-10T23:17:06.954844Z",
     "start_time": "2021-11-10T23:09:06.734Z"
    },
    "id": "3bxjVv08cqKE"
   },
   "outputs": [],
   "source": [
    "## Load the data\n",
    "import tensorflow as tf\n",
    "import numpy as np\n",
    "\n",
    "rnn_padding = 100\n",
    "lstm_padding = 2494\n",
    "word2idx = tf.keras.datasets.imdb.get_word_index()\n",
    "\n",
    "rnn = tf.keras.models.load_model('models/rnn')\n",
    "rnn_bi = tf.keras.models.load_model('models/rnn_bi')\n",
    "gru_bi = tf.keras.models.load_model('models/gru_bi')\n",
    "lstm_bi = tf.keras.models.load_model('models/lstm_bi')"
   ]
  },
  {
   "cell_type": "code",
   "execution_count": null,
   "metadata": {
    "ExecuteTime": {
     "end_time": "2021-11-10T23:17:06.955682Z",
     "start_time": "2021-11-10T23:09:06.738Z"
    },
    "id": "UauFFtWKcqKE"
   },
   "outputs": [],
   "source": [
    "def predict(text, clf, word2idx, padding_size):\n",
    "    # padd the text\n",
    "    padded_text = np.zeros((padding_size))\n",
    "    # transform your text into indices\n",
    "    padded_text[:min(padding_size, len(text.split()))] = [\n",
    "        word2idx.get(word, 0) for word in text.split()][:padding_size]\n",
    "    # predict it !\n",
    "    prediction = clf.predict(tf.expand_dims(padded_text, 0))\n",
    "    return prediction"
   ]
  },
  {
   "cell_type": "code",
   "execution_count": null,
   "metadata": {
    "ExecuteTime": {
     "end_time": "2021-11-10T23:17:06.956620Z",
     "start_time": "2021-11-10T23:09:06.743Z"
    },
    "id": "8phEbyb4cqKF"
   },
   "outputs": [],
   "source": [
    "text= \"the movie was super awesome!\\\n",
    "although i didn't like the fact that this piece of shit called star lord destroyed the \\\n",
    "whole mission, i wish they don't include him in the upcoming movies really.\""
   ]
  },
  {
   "cell_type": "code",
   "execution_count": null,
   "metadata": {
    "ExecuteTime": {
     "end_time": "2021-11-10T23:17:06.957618Z",
     "start_time": "2021-11-10T23:09:06.747Z"
    },
    "id": "h-nptUP5cqKG",
    "scrolled": true
   },
   "outputs": [],
   "source": [
    "predict(text, rnn, word2idx, rnn_padding)"
   ]
  },
  {
   "cell_type": "code",
   "execution_count": null,
   "metadata": {
    "ExecuteTime": {
     "end_time": "2021-11-10T23:17:06.958585Z",
     "start_time": "2021-11-10T23:09:06.751Z"
    },
    "id": "btsZ0hibcqKG"
   },
   "outputs": [],
   "source": [
    "predict(text, rnn_bi, word2idx, rnn_padding)"
   ]
  },
  {
   "cell_type": "code",
   "execution_count": null,
   "metadata": {
    "ExecuteTime": {
     "end_time": "2021-11-10T23:17:06.959582Z",
     "start_time": "2021-11-10T23:09:06.755Z"
    },
    "id": "_EAh1eblcqKH"
   },
   "outputs": [],
   "source": [
    "predict(text, gru_bi, word2idx, rnn_padding)"
   ]
  },
  {
   "cell_type": "code",
   "execution_count": null,
   "metadata": {
    "ExecuteTime": {
     "end_time": "2021-11-10T23:17:06.960434Z",
     "start_time": "2021-11-10T23:09:06.759Z"
    },
    "id": "ygc9s-AzcqKJ"
   },
   "outputs": [],
   "source": [
    "predict(text, lstm_bi, word2idx, lstm_padding)"
   ]
  },
  {
   "cell_type": "markdown",
   "metadata": {
    "id": "UVqW_z8rcqKJ"
   },
   "source": [
    "## Conclusion\n",
    "\n",
    "In this notebook we have seen a brief on the recurrent neural networks, how they work and how to deal with sequences using them.\n",
    "\n",
    "We have seen that RNN are much more efficient in working with sequences because they learn the knowledge embedded in the sequence unlike feed forward network.\n",
    "\n",
    "We also discussed how GRU is better than RNN in two main points, the way it handles the memory and also the vanishing gradient handling.\n",
    "\n",
    "Finally we have seen the LSTM and how it adds more gates to learn more about the sequence and enable a long term memory besides the short term, thus can work with larger sequences.\n",
    "\n",
    "### Good readings\n",
    "\n",
    "- [tensorflow tutorial (Text classification with an RNN)](https://www.tensorflow.org/tutorials/text/text_classification_rnn)\n",
    "- [Understanding LSTM Networks](https://colah.github.io/posts/2015-08-Understanding-LSTMs/)\n",
    "- [Coursera Sequence Models course by Andrew Ng](https://www.coursera.org/learn/nlp-sequence-models)"
   ]
  },
  {
   "cell_type": "markdown",
   "metadata": {
    "id": "3fUGDDfPcqKK"
   },
   "source": [
    "<center><img src='https://media1.tenor.com/images/4546feb2c62df2f4b67dc952434a8bab/tenor.gif?itemid=6218501'></center>"
   ]
  }
 ],
 "metadata": {
  "accelerator": "GPU",
  "colab": {
   "name": "3.1 Text Classification with RNNs.ipynb",
   "provenance": []
  },
  "gpuClass": "standard",
  "kernelspec": {
   "display_name": "Python 3 (ipykernel)",
   "language": "python",
   "name": "python3"
  },
  "language_info": {
   "codemirror_mode": {
    "name": "ipython",
    "version": 3
   },
   "file_extension": ".py",
   "mimetype": "text/x-python",
   "name": "python",
   "nbconvert_exporter": "python",
   "pygments_lexer": "ipython3",
   "version": "3.8.13"
  }
 },
 "nbformat": 4,
 "nbformat_minor": 1
}
