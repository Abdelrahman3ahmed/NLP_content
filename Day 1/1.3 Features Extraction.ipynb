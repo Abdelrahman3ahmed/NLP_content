{
 "cells": [
  {
   "cell_type": "markdown",
   "metadata": {
    "ExecuteTime": {
     "end_time": "2021-11-07T15:10:14.703968Z",
     "start_time": "2021-11-07T15:10:14.699160Z"
    },
    "id": "7FPnwsHMPpOz"
   },
   "source": [
    "# Feature Extraction\n",
    "\n",
    "In order to feed text to a model we need to transform it to a numerical features, in this notebook we will discuss how to build a bag-of-words model from text to use it later for different applications."
   ]
  },
  {
   "cell_type": "markdown",
   "metadata": {
    "id": "GoIA2O1RPpO9"
   },
   "source": [
    "# Bag of words\n",
    "\n",
    "Count the occurrences of words in the corpus."
   ]
  },
  {
   "cell_type": "code",
   "execution_count": 12,
   "metadata": {
    "ExecuteTime": {
     "end_time": "2021-11-07T22:21:27.519144Z",
     "start_time": "2021-11-07T22:21:25.778819Z"
    },
    "colab": {
     "base_uri": "https://localhost:8080/",
     "height": 261
    },
    "executionInfo": {
     "elapsed": 354,
     "status": "ok",
     "timestamp": 1656448631622,
     "user": {
      "displayName": "Wssam Hassan",
      "userId": "16924058918477820692"
     },
     "user_tz": -120
    },
    "id": "qEBFoEfNPpO-",
    "outputId": "39e47d91-7910-44e9-fa75-add13e5d9692",
    "scrolled": true
   },
   "outputs": [
    {
     "name": "stderr",
     "output_type": "stream",
     "text": [
      "/usr/local/lib/python3.7/dist-packages/sklearn/utils/deprecation.py:87: FutureWarning: Function get_feature_names is deprecated; get_feature_names is deprecated in 1.0 and will be removed in 1.2. Please use get_feature_names_out instead.\n",
      "  warnings.warn(msg, category=FutureWarning)\n"
     ]
    },
    {
     "data": {
      "text/html": [
       "\n",
       "  <div id=\"df-100ede9f-7b1f-4e2b-96c5-209f1950bd9c\">\n",
       "    <div class=\"colab-df-container\">\n",
       "      <div>\n",
       "<style scoped>\n",
       "    .dataframe tbody tr th:only-of-type {\n",
       "        vertical-align: middle;\n",
       "    }\n",
       "\n",
       "    .dataframe tbody tr th {\n",
       "        vertical-align: top;\n",
       "    }\n",
       "\n",
       "    .dataframe thead th {\n",
       "        text-align: right;\n",
       "    }\n",
       "</style>\n",
       "<table border=\"1\" class=\"dataframe\">\n",
       "  <thead>\n",
       "    <tr style=\"text-align: right;\">\n",
       "      <th></th>\n",
       "      <th>cat</th>\n",
       "      <th>dog</th>\n",
       "      <th>eats</th>\n",
       "      <th>food</th>\n",
       "      <th>hot</th>\n",
       "      <th>red</th>\n",
       "      <th>the</th>\n",
       "    </tr>\n",
       "  </thead>\n",
       "  <tbody>\n",
       "    <tr>\n",
       "      <th>the red dog</th>\n",
       "      <td>0</td>\n",
       "      <td>1</td>\n",
       "      <td>0</td>\n",
       "      <td>0</td>\n",
       "      <td>0</td>\n",
       "      <td>1</td>\n",
       "      <td>1</td>\n",
       "    </tr>\n",
       "    <tr>\n",
       "      <th>cat eats dog</th>\n",
       "      <td>1</td>\n",
       "      <td>1</td>\n",
       "      <td>1</td>\n",
       "      <td>0</td>\n",
       "      <td>0</td>\n",
       "      <td>0</td>\n",
       "      <td>0</td>\n",
       "    </tr>\n",
       "    <tr>\n",
       "      <th>dog eats food</th>\n",
       "      <td>0</td>\n",
       "      <td>1</td>\n",
       "      <td>1</td>\n",
       "      <td>1</td>\n",
       "      <td>0</td>\n",
       "      <td>0</td>\n",
       "      <td>0</td>\n",
       "    </tr>\n",
       "    <tr>\n",
       "      <th>red cat eats</th>\n",
       "      <td>1</td>\n",
       "      <td>0</td>\n",
       "      <td>1</td>\n",
       "      <td>0</td>\n",
       "      <td>0</td>\n",
       "      <td>1</td>\n",
       "      <td>0</td>\n",
       "    </tr>\n",
       "    <tr>\n",
       "      <th>the hot dog</th>\n",
       "      <td>0</td>\n",
       "      <td>1</td>\n",
       "      <td>0</td>\n",
       "      <td>0</td>\n",
       "      <td>1</td>\n",
       "      <td>0</td>\n",
       "      <td>1</td>\n",
       "    </tr>\n",
       "  </tbody>\n",
       "</table>\n",
       "</div>\n",
       "      <button class=\"colab-df-convert\" onclick=\"convertToInteractive('df-100ede9f-7b1f-4e2b-96c5-209f1950bd9c')\"\n",
       "              title=\"Convert this dataframe to an interactive table.\"\n",
       "              style=\"display:none;\">\n",
       "        \n",
       "  <svg xmlns=\"http://www.w3.org/2000/svg\" height=\"24px\"viewBox=\"0 0 24 24\"\n",
       "       width=\"24px\">\n",
       "    <path d=\"M0 0h24v24H0V0z\" fill=\"none\"/>\n",
       "    <path d=\"M18.56 5.44l.94 2.06.94-2.06 2.06-.94-2.06-.94-.94-2.06-.94 2.06-2.06.94zm-11 1L8.5 8.5l.94-2.06 2.06-.94-2.06-.94L8.5 2.5l-.94 2.06-2.06.94zm10 10l.94 2.06.94-2.06 2.06-.94-2.06-.94-.94-2.06-.94 2.06-2.06.94z\"/><path d=\"M17.41 7.96l-1.37-1.37c-.4-.4-.92-.59-1.43-.59-.52 0-1.04.2-1.43.59L10.3 9.45l-7.72 7.72c-.78.78-.78 2.05 0 2.83L4 21.41c.39.39.9.59 1.41.59.51 0 1.02-.2 1.41-.59l7.78-7.78 2.81-2.81c.8-.78.8-2.07 0-2.86zM5.41 20L4 18.59l7.72-7.72 1.47 1.35L5.41 20z\"/>\n",
       "  </svg>\n",
       "      </button>\n",
       "      \n",
       "  <style>\n",
       "    .colab-df-container {\n",
       "      display:flex;\n",
       "      flex-wrap:wrap;\n",
       "      gap: 12px;\n",
       "    }\n",
       "\n",
       "    .colab-df-convert {\n",
       "      background-color: #E8F0FE;\n",
       "      border: none;\n",
       "      border-radius: 50%;\n",
       "      cursor: pointer;\n",
       "      display: none;\n",
       "      fill: #1967D2;\n",
       "      height: 32px;\n",
       "      padding: 0 0 0 0;\n",
       "      width: 32px;\n",
       "    }\n",
       "\n",
       "    .colab-df-convert:hover {\n",
       "      background-color: #E2EBFA;\n",
       "      box-shadow: 0px 1px 2px rgba(60, 64, 67, 0.3), 0px 1px 3px 1px rgba(60, 64, 67, 0.15);\n",
       "      fill: #174EA6;\n",
       "    }\n",
       "\n",
       "    [theme=dark] .colab-df-convert {\n",
       "      background-color: #3B4455;\n",
       "      fill: #D2E3FC;\n",
       "    }\n",
       "\n",
       "    [theme=dark] .colab-df-convert:hover {\n",
       "      background-color: #434B5C;\n",
       "      box-shadow: 0px 1px 3px 1px rgba(0, 0, 0, 0.15);\n",
       "      filter: drop-shadow(0px 1px 2px rgba(0, 0, 0, 0.3));\n",
       "      fill: #FFFFFF;\n",
       "    }\n",
       "  </style>\n",
       "\n",
       "      <script>\n",
       "        const buttonEl =\n",
       "          document.querySelector('#df-100ede9f-7b1f-4e2b-96c5-209f1950bd9c button.colab-df-convert');\n",
       "        buttonEl.style.display =\n",
       "          google.colab.kernel.accessAllowed ? 'block' : 'none';\n",
       "\n",
       "        async function convertToInteractive(key) {\n",
       "          const element = document.querySelector('#df-100ede9f-7b1f-4e2b-96c5-209f1950bd9c');\n",
       "          const dataTable =\n",
       "            await google.colab.kernel.invokeFunction('convertToInteractive',\n",
       "                                                     [key], {});\n",
       "          if (!dataTable) return;\n",
       "\n",
       "          const docLinkHtml = 'Like what you see? Visit the ' +\n",
       "            '<a target=\"_blank\" href=https://colab.research.google.com/notebooks/data_table.ipynb>data table notebook</a>'\n",
       "            + ' to learn more about interactive tables.';\n",
       "          element.innerHTML = '';\n",
       "          dataTable['output_type'] = 'display_data';\n",
       "          await google.colab.output.renderOutput(dataTable, element);\n",
       "          const docLink = document.createElement('div');\n",
       "          docLink.innerHTML = docLinkHtml;\n",
       "          element.appendChild(docLink);\n",
       "        }\n",
       "      </script>\n",
       "    </div>\n",
       "  </div>\n",
       "  "
      ],
      "text/plain": [
       "               cat  dog  eats  food  hot  red  the\n",
       "the red dog      0    1     0     0    0    1    1\n",
       "cat eats dog     1    1     1     0    0    0    0\n",
       "dog eats food    0    1     1     1    0    0    0\n",
       "red cat eats     1    0     1     0    0    1    0\n",
       "the hot dog      0    1     0     0    1    0    1"
      ]
     },
     "execution_count": 12,
     "metadata": {},
     "output_type": "execute_result"
    }
   ],
   "source": [
    "import pandas as pd\n",
    "from sklearn.feature_extraction.text import CountVectorizer\n",
    "\n",
    "texts = [ 'the red dog', 'cat eats dog', 'dog eats food',\n",
    "         'red cat eats', 'the hot dog']\n",
    "\n",
    "vectorizer = CountVectorizer()\n",
    "vectorizer.fit(texts)\n",
    "x = vectorizer.transform(texts)\n",
    "\n",
    "columns = vectorizer.get_feature_names()\n",
    "pd.DataFrame(x.todense(), columns=columns, index=texts)"
   ]
  },
  {
   "cell_type": "code",
   "execution_count": 17,
   "metadata": {
    "colab": {
     "base_uri": "https://localhost:8080/"
    },
    "executionInfo": {
     "elapsed": 339,
     "status": "ok",
     "timestamp": 1656448703704,
     "user": {
      "displayName": "Wssam Hassan",
      "userId": "16924058918477820692"
     },
     "user_tz": -120
    },
    "id": "T8TqMzGFCFdG",
    "outputId": "de116893-d77b-4ff0-e855-2685dab0b98c"
   },
   "outputs": [
    {
     "data": {
      "text/plain": [
       "matrix([[0, 1, 0, 0, 0, 0, 0]])"
      ]
     },
     "execution_count": 17,
     "metadata": {},
     "output_type": "execute_result"
    }
   ],
   "source": [
    "vectorizer.transform(['blue dog']).todense()"
   ]
  },
  {
   "cell_type": "markdown",
   "metadata": {
    "id": "TsJcHk7BPpPD"
   },
   "source": [
    "# Stop-words\n",
    "\n",
    "Stop-words are words that are not significant to the topic in hand, for example `[am, is, are, in, at, ...]` can be considered stop-words in many applications as they don't add meaning.\n",
    "\n",
    "In some other domains and problems you may have different kind of stop-words, for example if you are processing some chatbot data you may find `[can you please, would you please, can I, may I, ...]` such examples don't add meaning so stop-words can also be domain specific, and `TFIDF` can help you find these."
   ]
  },
  {
   "cell_type": "code",
   "execution_count": 9,
   "metadata": {
    "ExecuteTime": {
     "end_time": "2021-11-07T22:21:27.530376Z",
     "start_time": "2021-11-07T22:21:27.520724Z"
    },
    "colab": {
     "base_uri": "https://localhost:8080/",
     "height": 261
    },
    "executionInfo": {
     "elapsed": 398,
     "status": "ok",
     "timestamp": 1656447937637,
     "user": {
      "displayName": "Wssam Hassan",
      "userId": "16924058918477820692"
     },
     "user_tz": -120
    },
    "id": "oFKzeeTMPpPG",
    "outputId": "712d891e-6fd3-45f6-ad82-db38c25ba86a",
    "scrolled": true
   },
   "outputs": [
    {
     "name": "stderr",
     "output_type": "stream",
     "text": [
      "/usr/local/lib/python3.7/dist-packages/sklearn/utils/deprecation.py:87: FutureWarning: Function get_feature_names is deprecated; get_feature_names is deprecated in 1.0 and will be removed in 1.2. Please use get_feature_names_out instead.\n",
      "  warnings.warn(msg, category=FutureWarning)\n"
     ]
    },
    {
     "data": {
      "text/html": [
       "\n",
       "  <div id=\"df-59fd49e2-10a6-4b53-ae62-0c685bf925f1\">\n",
       "    <div class=\"colab-df-container\">\n",
       "      <div>\n",
       "<style scoped>\n",
       "    .dataframe tbody tr th:only-of-type {\n",
       "        vertical-align: middle;\n",
       "    }\n",
       "\n",
       "    .dataframe tbody tr th {\n",
       "        vertical-align: top;\n",
       "    }\n",
       "\n",
       "    .dataframe thead th {\n",
       "        text-align: right;\n",
       "    }\n",
       "</style>\n",
       "<table border=\"1\" class=\"dataframe\">\n",
       "  <thead>\n",
       "    <tr style=\"text-align: right;\">\n",
       "      <th></th>\n",
       "      <th>cat</th>\n",
       "      <th>cat eats</th>\n",
       "      <th>dog</th>\n",
       "      <th>dog eats</th>\n",
       "      <th>eats</th>\n",
       "      <th>eats dog</th>\n",
       "      <th>eats food</th>\n",
       "      <th>food</th>\n",
       "      <th>hot</th>\n",
       "      <th>hot dog</th>\n",
       "      <th>red</th>\n",
       "      <th>red cat</th>\n",
       "      <th>red dog</th>\n",
       "    </tr>\n",
       "  </thead>\n",
       "  <tbody>\n",
       "    <tr>\n",
       "      <th>the red dog</th>\n",
       "      <td>0</td>\n",
       "      <td>0</td>\n",
       "      <td>1</td>\n",
       "      <td>0</td>\n",
       "      <td>0</td>\n",
       "      <td>0</td>\n",
       "      <td>0</td>\n",
       "      <td>0</td>\n",
       "      <td>0</td>\n",
       "      <td>0</td>\n",
       "      <td>1</td>\n",
       "      <td>0</td>\n",
       "      <td>1</td>\n",
       "    </tr>\n",
       "    <tr>\n",
       "      <th>cat eats dog</th>\n",
       "      <td>1</td>\n",
       "      <td>1</td>\n",
       "      <td>1</td>\n",
       "      <td>0</td>\n",
       "      <td>1</td>\n",
       "      <td>1</td>\n",
       "      <td>0</td>\n",
       "      <td>0</td>\n",
       "      <td>0</td>\n",
       "      <td>0</td>\n",
       "      <td>0</td>\n",
       "      <td>0</td>\n",
       "      <td>0</td>\n",
       "    </tr>\n",
       "    <tr>\n",
       "      <th>dog eats food</th>\n",
       "      <td>0</td>\n",
       "      <td>0</td>\n",
       "      <td>1</td>\n",
       "      <td>1</td>\n",
       "      <td>1</td>\n",
       "      <td>0</td>\n",
       "      <td>1</td>\n",
       "      <td>1</td>\n",
       "      <td>0</td>\n",
       "      <td>0</td>\n",
       "      <td>0</td>\n",
       "      <td>0</td>\n",
       "      <td>0</td>\n",
       "    </tr>\n",
       "    <tr>\n",
       "      <th>red cat eats</th>\n",
       "      <td>1</td>\n",
       "      <td>1</td>\n",
       "      <td>0</td>\n",
       "      <td>0</td>\n",
       "      <td>1</td>\n",
       "      <td>0</td>\n",
       "      <td>0</td>\n",
       "      <td>0</td>\n",
       "      <td>0</td>\n",
       "      <td>0</td>\n",
       "      <td>1</td>\n",
       "      <td>1</td>\n",
       "      <td>0</td>\n",
       "    </tr>\n",
       "    <tr>\n",
       "      <th>the hot dog</th>\n",
       "      <td>0</td>\n",
       "      <td>0</td>\n",
       "      <td>1</td>\n",
       "      <td>0</td>\n",
       "      <td>0</td>\n",
       "      <td>0</td>\n",
       "      <td>0</td>\n",
       "      <td>0</td>\n",
       "      <td>1</td>\n",
       "      <td>1</td>\n",
       "      <td>0</td>\n",
       "      <td>0</td>\n",
       "      <td>0</td>\n",
       "    </tr>\n",
       "  </tbody>\n",
       "</table>\n",
       "</div>\n",
       "      <button class=\"colab-df-convert\" onclick=\"convertToInteractive('df-59fd49e2-10a6-4b53-ae62-0c685bf925f1')\"\n",
       "              title=\"Convert this dataframe to an interactive table.\"\n",
       "              style=\"display:none;\">\n",
       "        \n",
       "  <svg xmlns=\"http://www.w3.org/2000/svg\" height=\"24px\"viewBox=\"0 0 24 24\"\n",
       "       width=\"24px\">\n",
       "    <path d=\"M0 0h24v24H0V0z\" fill=\"none\"/>\n",
       "    <path d=\"M18.56 5.44l.94 2.06.94-2.06 2.06-.94-2.06-.94-.94-2.06-.94 2.06-2.06.94zm-11 1L8.5 8.5l.94-2.06 2.06-.94-2.06-.94L8.5 2.5l-.94 2.06-2.06.94zm10 10l.94 2.06.94-2.06 2.06-.94-2.06-.94-.94-2.06-.94 2.06-2.06.94z\"/><path d=\"M17.41 7.96l-1.37-1.37c-.4-.4-.92-.59-1.43-.59-.52 0-1.04.2-1.43.59L10.3 9.45l-7.72 7.72c-.78.78-.78 2.05 0 2.83L4 21.41c.39.39.9.59 1.41.59.51 0 1.02-.2 1.41-.59l7.78-7.78 2.81-2.81c.8-.78.8-2.07 0-2.86zM5.41 20L4 18.59l7.72-7.72 1.47 1.35L5.41 20z\"/>\n",
       "  </svg>\n",
       "      </button>\n",
       "      \n",
       "  <style>\n",
       "    .colab-df-container {\n",
       "      display:flex;\n",
       "      flex-wrap:wrap;\n",
       "      gap: 12px;\n",
       "    }\n",
       "\n",
       "    .colab-df-convert {\n",
       "      background-color: #E8F0FE;\n",
       "      border: none;\n",
       "      border-radius: 50%;\n",
       "      cursor: pointer;\n",
       "      display: none;\n",
       "      fill: #1967D2;\n",
       "      height: 32px;\n",
       "      padding: 0 0 0 0;\n",
       "      width: 32px;\n",
       "    }\n",
       "\n",
       "    .colab-df-convert:hover {\n",
       "      background-color: #E2EBFA;\n",
       "      box-shadow: 0px 1px 2px rgba(60, 64, 67, 0.3), 0px 1px 3px 1px rgba(60, 64, 67, 0.15);\n",
       "      fill: #174EA6;\n",
       "    }\n",
       "\n",
       "    [theme=dark] .colab-df-convert {\n",
       "      background-color: #3B4455;\n",
       "      fill: #D2E3FC;\n",
       "    }\n",
       "\n",
       "    [theme=dark] .colab-df-convert:hover {\n",
       "      background-color: #434B5C;\n",
       "      box-shadow: 0px 1px 3px 1px rgba(0, 0, 0, 0.15);\n",
       "      filter: drop-shadow(0px 1px 2px rgba(0, 0, 0, 0.3));\n",
       "      fill: #FFFFFF;\n",
       "    }\n",
       "  </style>\n",
       "\n",
       "      <script>\n",
       "        const buttonEl =\n",
       "          document.querySelector('#df-59fd49e2-10a6-4b53-ae62-0c685bf925f1 button.colab-df-convert');\n",
       "        buttonEl.style.display =\n",
       "          google.colab.kernel.accessAllowed ? 'block' : 'none';\n",
       "\n",
       "        async function convertToInteractive(key) {\n",
       "          const element = document.querySelector('#df-59fd49e2-10a6-4b53-ae62-0c685bf925f1');\n",
       "          const dataTable =\n",
       "            await google.colab.kernel.invokeFunction('convertToInteractive',\n",
       "                                                     [key], {});\n",
       "          if (!dataTable) return;\n",
       "\n",
       "          const docLinkHtml = 'Like what you see? Visit the ' +\n",
       "            '<a target=\"_blank\" href=https://colab.research.google.com/notebooks/data_table.ipynb>data table notebook</a>'\n",
       "            + ' to learn more about interactive tables.';\n",
       "          element.innerHTML = '';\n",
       "          dataTable['output_type'] = 'display_data';\n",
       "          await google.colab.output.renderOutput(dataTable, element);\n",
       "          const docLink = document.createElement('div');\n",
       "          docLink.innerHTML = docLinkHtml;\n",
       "          element.appendChild(docLink);\n",
       "        }\n",
       "      </script>\n",
       "    </div>\n",
       "  </div>\n",
       "  "
      ],
      "text/plain": [
       "               cat  cat eats  dog  dog eats  eats  eats dog  eats food  food  \\\n",
       "the red dog      0         0    1         0     0         0          0     0   \n",
       "cat eats dog     1         1    1         0     1         1          0     0   \n",
       "dog eats food    0         0    1         1     1         0          1     1   \n",
       "red cat eats     1         1    0         0     1         0          0     0   \n",
       "the hot dog      0         0    1         0     0         0          0     0   \n",
       "\n",
       "               hot  hot dog  red  red cat  red dog  \n",
       "the red dog      0        0    1        0        1  \n",
       "cat eats dog     0        0    0        0        0  \n",
       "dog eats food    0        0    0        0        0  \n",
       "red cat eats     0        0    1        1        0  \n",
       "the hot dog      1        1    0        0        0  "
      ]
     },
     "execution_count": 9,
     "metadata": {},
     "output_type": "execute_result"
    }
   ],
   "source": [
    "texts = [ 'the red dog', 'cat eats dog', 'dog eats food',\n",
    "         'red cat eats', 'the hot dog']\n",
    "\n",
    "vectorizer = CountVectorizer(stop_words='english', ngram_range=(1,2))\n",
    "vectorizer.fit(texts)\n",
    "x = vectorizer.transform(texts)\n",
    "\n",
    "columns = vectorizer.get_feature_names()\n",
    "pd.DataFrame(x.todense(), columns=columns, index=texts)"
   ]
  },
  {
   "cell_type": "code",
   "execution_count": 11,
   "metadata": {
    "colab": {
     "base_uri": "https://localhost:8080/"
    },
    "executionInfo": {
     "elapsed": 375,
     "status": "ok",
     "timestamp": 1656447965035,
     "user": {
      "displayName": "Wssam Hassan",
      "userId": "16924058918477820692"
     },
     "user_tz": -120
    },
    "id": "_Sbjms0M_efo",
    "outputId": "140d938d-d375-447f-b7ce-d8afa80afd72"
   },
   "outputs": [
    {
     "name": "stdout",
     "output_type": "stream",
     "text": [
      "['cat', 'cat eats', 'dog', 'dog eats', 'eats', 'eats dog', 'eats food', 'food', 'hot', 'hot dog', 'red', 'red cat', 'red dog']\n"
     ]
    },
    {
     "name": "stderr",
     "output_type": "stream",
     "text": [
      "/usr/local/lib/python3.7/dist-packages/sklearn/utils/deprecation.py:87: FutureWarning: Function get_feature_names is deprecated; get_feature_names is deprecated in 1.0 and will be removed in 1.2. Please use get_feature_names_out instead.\n",
      "  warnings.warn(msg, category=FutureWarning)\n"
     ]
    }
   ],
   "source": [
    "print(vectorizer.get_feature_names())"
   ]
  },
  {
   "cell_type": "markdown",
   "metadata": {
    "id": "5py6KJ_ePpPH"
   },
   "source": [
    "> Note that the word `the` was removed here"
   ]
  },
  {
   "cell_type": "markdown",
   "metadata": {
    "id": "4wHgBjwhPpPI"
   },
   "source": [
    "# N-Grams\n",
    "\n",
    "N-Grams is a way we can use to count for the context in the text, the bigger n-gram range the bigger context you can capture but also more features to generate, so be careful not to break your memory."
   ]
  },
  {
   "cell_type": "code",
   "execution_count": 8,
   "metadata": {
    "ExecuteTime": {
     "end_time": "2021-11-07T22:21:27.551701Z",
     "start_time": "2021-11-07T22:21:27.531929Z"
    },
    "colab": {
     "base_uri": "https://localhost:8080/",
     "height": 438
    },
    "executionInfo": {
     "elapsed": 502,
     "status": "ok",
     "timestamp": 1656447709398,
     "user": {
      "displayName": "Wssam Hassan",
      "userId": "16924058918477820692"
     },
     "user_tz": -120
    },
    "id": "Wny5GYWxPpPL",
    "outputId": "f6a2bc0c-f19c-4d3d-f246-23fad54d79d3",
    "scrolled": true
   },
   "outputs": [
    {
     "name": "stderr",
     "output_type": "stream",
     "text": [
      "/usr/local/lib/python3.7/dist-packages/sklearn/utils/deprecation.py:87: FutureWarning: Function get_feature_names is deprecated; get_feature_names is deprecated in 1.0 and will be removed in 1.2. Please use get_feature_names_out instead.\n",
      "  warnings.warn(msg, category=FutureWarning)\n"
     ]
    },
    {
     "data": {
      "text/html": [
       "\n",
       "  <div id=\"df-a9a6a9b1-b450-4fc6-808e-77d1624890c8\">\n",
       "    <div class=\"colab-df-container\">\n",
       "      <div>\n",
       "<style scoped>\n",
       "    .dataframe tbody tr th:only-of-type {\n",
       "        vertical-align: middle;\n",
       "    }\n",
       "\n",
       "    .dataframe tbody tr th {\n",
       "        vertical-align: top;\n",
       "    }\n",
       "\n",
       "    .dataframe thead th {\n",
       "        text-align: right;\n",
       "    }\n",
       "</style>\n",
       "<table border=\"1\" class=\"dataframe\">\n",
       "  <thead>\n",
       "    <tr style=\"text-align: right;\">\n",
       "      <th></th>\n",
       "      <th>cat</th>\n",
       "      <th>cat eats</th>\n",
       "      <th>cat eats dog</th>\n",
       "      <th>dog</th>\n",
       "      <th>dog eats</th>\n",
       "      <th>dog eats food</th>\n",
       "      <th>eats</th>\n",
       "      <th>eats dog</th>\n",
       "      <th>eats food</th>\n",
       "      <th>food</th>\n",
       "      <th>...</th>\n",
       "      <th>hot dog</th>\n",
       "      <th>red</th>\n",
       "      <th>red cat</th>\n",
       "      <th>red cat eats</th>\n",
       "      <th>red dog</th>\n",
       "      <th>the</th>\n",
       "      <th>the hot</th>\n",
       "      <th>the hot dog</th>\n",
       "      <th>the red</th>\n",
       "      <th>the red dog</th>\n",
       "    </tr>\n",
       "  </thead>\n",
       "  <tbody>\n",
       "    <tr>\n",
       "      <th>the red dog</th>\n",
       "      <td>0</td>\n",
       "      <td>0</td>\n",
       "      <td>0</td>\n",
       "      <td>1</td>\n",
       "      <td>0</td>\n",
       "      <td>0</td>\n",
       "      <td>0</td>\n",
       "      <td>0</td>\n",
       "      <td>0</td>\n",
       "      <td>0</td>\n",
       "      <td>...</td>\n",
       "      <td>0</td>\n",
       "      <td>1</td>\n",
       "      <td>0</td>\n",
       "      <td>0</td>\n",
       "      <td>1</td>\n",
       "      <td>1</td>\n",
       "      <td>0</td>\n",
       "      <td>0</td>\n",
       "      <td>1</td>\n",
       "      <td>1</td>\n",
       "    </tr>\n",
       "    <tr>\n",
       "      <th>cat eats dog</th>\n",
       "      <td>1</td>\n",
       "      <td>1</td>\n",
       "      <td>1</td>\n",
       "      <td>1</td>\n",
       "      <td>0</td>\n",
       "      <td>0</td>\n",
       "      <td>1</td>\n",
       "      <td>1</td>\n",
       "      <td>0</td>\n",
       "      <td>0</td>\n",
       "      <td>...</td>\n",
       "      <td>0</td>\n",
       "      <td>0</td>\n",
       "      <td>0</td>\n",
       "      <td>0</td>\n",
       "      <td>0</td>\n",
       "      <td>0</td>\n",
       "      <td>0</td>\n",
       "      <td>0</td>\n",
       "      <td>0</td>\n",
       "      <td>0</td>\n",
       "    </tr>\n",
       "    <tr>\n",
       "      <th>dog eats food</th>\n",
       "      <td>0</td>\n",
       "      <td>0</td>\n",
       "      <td>0</td>\n",
       "      <td>1</td>\n",
       "      <td>1</td>\n",
       "      <td>1</td>\n",
       "      <td>1</td>\n",
       "      <td>0</td>\n",
       "      <td>1</td>\n",
       "      <td>1</td>\n",
       "      <td>...</td>\n",
       "      <td>0</td>\n",
       "      <td>0</td>\n",
       "      <td>0</td>\n",
       "      <td>0</td>\n",
       "      <td>0</td>\n",
       "      <td>0</td>\n",
       "      <td>0</td>\n",
       "      <td>0</td>\n",
       "      <td>0</td>\n",
       "      <td>0</td>\n",
       "    </tr>\n",
       "    <tr>\n",
       "      <th>red cat eats</th>\n",
       "      <td>1</td>\n",
       "      <td>1</td>\n",
       "      <td>0</td>\n",
       "      <td>0</td>\n",
       "      <td>0</td>\n",
       "      <td>0</td>\n",
       "      <td>1</td>\n",
       "      <td>0</td>\n",
       "      <td>0</td>\n",
       "      <td>0</td>\n",
       "      <td>...</td>\n",
       "      <td>0</td>\n",
       "      <td>1</td>\n",
       "      <td>1</td>\n",
       "      <td>1</td>\n",
       "      <td>0</td>\n",
       "      <td>0</td>\n",
       "      <td>0</td>\n",
       "      <td>0</td>\n",
       "      <td>0</td>\n",
       "      <td>0</td>\n",
       "    </tr>\n",
       "    <tr>\n",
       "      <th>the hot dog</th>\n",
       "      <td>0</td>\n",
       "      <td>0</td>\n",
       "      <td>0</td>\n",
       "      <td>1</td>\n",
       "      <td>0</td>\n",
       "      <td>0</td>\n",
       "      <td>0</td>\n",
       "      <td>0</td>\n",
       "      <td>0</td>\n",
       "      <td>0</td>\n",
       "      <td>...</td>\n",
       "      <td>1</td>\n",
       "      <td>0</td>\n",
       "      <td>0</td>\n",
       "      <td>0</td>\n",
       "      <td>0</td>\n",
       "      <td>1</td>\n",
       "      <td>1</td>\n",
       "      <td>1</td>\n",
       "      <td>0</td>\n",
       "      <td>0</td>\n",
       "    </tr>\n",
       "  </tbody>\n",
       "</table>\n",
       "<p>5 rows × 21 columns</p>\n",
       "</div>\n",
       "      <button class=\"colab-df-convert\" onclick=\"convertToInteractive('df-a9a6a9b1-b450-4fc6-808e-77d1624890c8')\"\n",
       "              title=\"Convert this dataframe to an interactive table.\"\n",
       "              style=\"display:none;\">\n",
       "        \n",
       "  <svg xmlns=\"http://www.w3.org/2000/svg\" height=\"24px\"viewBox=\"0 0 24 24\"\n",
       "       width=\"24px\">\n",
       "    <path d=\"M0 0h24v24H0V0z\" fill=\"none\"/>\n",
       "    <path d=\"M18.56 5.44l.94 2.06.94-2.06 2.06-.94-2.06-.94-.94-2.06-.94 2.06-2.06.94zm-11 1L8.5 8.5l.94-2.06 2.06-.94-2.06-.94L8.5 2.5l-.94 2.06-2.06.94zm10 10l.94 2.06.94-2.06 2.06-.94-2.06-.94-.94-2.06-.94 2.06-2.06.94z\"/><path d=\"M17.41 7.96l-1.37-1.37c-.4-.4-.92-.59-1.43-.59-.52 0-1.04.2-1.43.59L10.3 9.45l-7.72 7.72c-.78.78-.78 2.05 0 2.83L4 21.41c.39.39.9.59 1.41.59.51 0 1.02-.2 1.41-.59l7.78-7.78 2.81-2.81c.8-.78.8-2.07 0-2.86zM5.41 20L4 18.59l7.72-7.72 1.47 1.35L5.41 20z\"/>\n",
       "  </svg>\n",
       "      </button>\n",
       "      \n",
       "  <style>\n",
       "    .colab-df-container {\n",
       "      display:flex;\n",
       "      flex-wrap:wrap;\n",
       "      gap: 12px;\n",
       "    }\n",
       "\n",
       "    .colab-df-convert {\n",
       "      background-color: #E8F0FE;\n",
       "      border: none;\n",
       "      border-radius: 50%;\n",
       "      cursor: pointer;\n",
       "      display: none;\n",
       "      fill: #1967D2;\n",
       "      height: 32px;\n",
       "      padding: 0 0 0 0;\n",
       "      width: 32px;\n",
       "    }\n",
       "\n",
       "    .colab-df-convert:hover {\n",
       "      background-color: #E2EBFA;\n",
       "      box-shadow: 0px 1px 2px rgba(60, 64, 67, 0.3), 0px 1px 3px 1px rgba(60, 64, 67, 0.15);\n",
       "      fill: #174EA6;\n",
       "    }\n",
       "\n",
       "    [theme=dark] .colab-df-convert {\n",
       "      background-color: #3B4455;\n",
       "      fill: #D2E3FC;\n",
       "    }\n",
       "\n",
       "    [theme=dark] .colab-df-convert:hover {\n",
       "      background-color: #434B5C;\n",
       "      box-shadow: 0px 1px 3px 1px rgba(0, 0, 0, 0.15);\n",
       "      filter: drop-shadow(0px 1px 2px rgba(0, 0, 0, 0.3));\n",
       "      fill: #FFFFFF;\n",
       "    }\n",
       "  </style>\n",
       "\n",
       "      <script>\n",
       "        const buttonEl =\n",
       "          document.querySelector('#df-a9a6a9b1-b450-4fc6-808e-77d1624890c8 button.colab-df-convert');\n",
       "        buttonEl.style.display =\n",
       "          google.colab.kernel.accessAllowed ? 'block' : 'none';\n",
       "\n",
       "        async function convertToInteractive(key) {\n",
       "          const element = document.querySelector('#df-a9a6a9b1-b450-4fc6-808e-77d1624890c8');\n",
       "          const dataTable =\n",
       "            await google.colab.kernel.invokeFunction('convertToInteractive',\n",
       "                                                     [key], {});\n",
       "          if (!dataTable) return;\n",
       "\n",
       "          const docLinkHtml = 'Like what you see? Visit the ' +\n",
       "            '<a target=\"_blank\" href=https://colab.research.google.com/notebooks/data_table.ipynb>data table notebook</a>'\n",
       "            + ' to learn more about interactive tables.';\n",
       "          element.innerHTML = '';\n",
       "          dataTable['output_type'] = 'display_data';\n",
       "          await google.colab.output.renderOutput(dataTable, element);\n",
       "          const docLink = document.createElement('div');\n",
       "          docLink.innerHTML = docLinkHtml;\n",
       "          element.appendChild(docLink);\n",
       "        }\n",
       "      </script>\n",
       "    </div>\n",
       "  </div>\n",
       "  "
      ],
      "text/plain": [
       "               cat  cat eats  cat eats dog  dog  dog eats  dog eats food  \\\n",
       "the red dog      0         0             0    1         0              0   \n",
       "cat eats dog     1         1             1    1         0              0   \n",
       "dog eats food    0         0             0    1         1              1   \n",
       "red cat eats     1         1             0    0         0              0   \n",
       "the hot dog      0         0             0    1         0              0   \n",
       "\n",
       "               eats  eats dog  eats food  food  ...  hot dog  red  red cat  \\\n",
       "the red dog       0         0          0     0  ...        0    1        0   \n",
       "cat eats dog      1         1          0     0  ...        0    0        0   \n",
       "dog eats food     1         0          1     1  ...        0    0        0   \n",
       "red cat eats      1         0          0     0  ...        0    1        1   \n",
       "the hot dog       0         0          0     0  ...        1    0        0   \n",
       "\n",
       "               red cat eats  red dog  the  the hot  the hot dog  the red  \\\n",
       "the red dog               0        1    1        0            0        1   \n",
       "cat eats dog              0        0    0        0            0        0   \n",
       "dog eats food             0        0    0        0            0        0   \n",
       "red cat eats              1        0    0        0            0        0   \n",
       "the hot dog               0        0    1        1            1        0   \n",
       "\n",
       "               the red dog  \n",
       "the red dog              1  \n",
       "cat eats dog             0  \n",
       "dog eats food            0  \n",
       "red cat eats             0  \n",
       "the hot dog              0  \n",
       "\n",
       "[5 rows x 21 columns]"
      ]
     },
     "execution_count": 8,
     "metadata": {},
     "output_type": "execute_result"
    }
   ],
   "source": [
    "texts = [ 'the red dog', 'cat eats dog', 'dog eats food',\n",
    "         'red cat eats', 'the hot dog']\n",
    "\n",
    "\n",
    "texts = ['this is happy scenario for nlp', 'happy scenario for nlp']\n",
    "vectorizer = CountVectorizer(ngram_range=(1, 3))   # 1  2  3\n",
    "vectorizer.fit(texts)\n",
    "x = vectorizer.transform(texts)\n",
    "\n",
    "columns = vectorizer.get_feature_names()\n",
    "pd.DataFrame(x.todense(), columns=columns, index=texts)"
   ]
  },
  {
   "cell_type": "markdown",
   "metadata": {
    "id": "zsBL3xcbPpPN"
   },
   "source": [
    "# TFIDF\n",
    "\n",
    "Instead of just counting the frequency of each word, each word here is weighted using TF-IDF\n",
    "\n",
    "$$W_{x, y} = tf_{x, y} \\times log(\\frac{N}{df_x})$$"
   ]
  },
  {
   "cell_type": "code",
   "execution_count": 4,
   "metadata": {
    "ExecuteTime": {
     "end_time": "2021-11-07T22:21:27.593491Z",
     "start_time": "2021-11-07T22:21:27.553869Z"
    },
    "colab": {
     "base_uri": "https://localhost:8080/",
     "height": 261
    },
    "executionInfo": {
     "elapsed": 62,
     "status": "ok",
     "timestamp": 1656435448558,
     "user": {
      "displayName": "Wssam Hassan",
      "userId": "16924058918477820692"
     },
     "user_tz": -120
    },
    "id": "NYqG6PcfPpPP",
    "outputId": "6c2b7abb-61e5-42ac-bea4-d7cc9f199534"
   },
   "outputs": [
    {
     "name": "stderr",
     "output_type": "stream",
     "text": [
      "/usr/local/lib/python3.7/dist-packages/sklearn/utils/deprecation.py:87: FutureWarning: Function get_feature_names is deprecated; get_feature_names is deprecated in 1.0 and will be removed in 1.2. Please use get_feature_names_out instead.\n",
      "  warnings.warn(msg, category=FutureWarning)\n"
     ]
    },
    {
     "data": {
      "text/html": [
       "\n",
       "  <div id=\"df-b230e274-d191-499b-aa3b-913be6cad740\">\n",
       "    <div class=\"colab-df-container\">\n",
       "      <div>\n",
       "<style scoped>\n",
       "    .dataframe tbody tr th:only-of-type {\n",
       "        vertical-align: middle;\n",
       "    }\n",
       "\n",
       "    .dataframe tbody tr th {\n",
       "        vertical-align: top;\n",
       "    }\n",
       "\n",
       "    .dataframe thead th {\n",
       "        text-align: right;\n",
       "    }\n",
       "</style>\n",
       "<table border=\"1\" class=\"dataframe\">\n",
       "  <thead>\n",
       "    <tr style=\"text-align: right;\">\n",
       "      <th></th>\n",
       "      <th>cat</th>\n",
       "      <th>cat eats</th>\n",
       "      <th>dog</th>\n",
       "      <th>dog eats</th>\n",
       "      <th>eats</th>\n",
       "      <th>eats dog</th>\n",
       "      <th>eats food</th>\n",
       "      <th>food</th>\n",
       "      <th>hot</th>\n",
       "      <th>hot dog</th>\n",
       "      <th>red</th>\n",
       "      <th>red cat</th>\n",
       "      <th>red dog</th>\n",
       "    </tr>\n",
       "  </thead>\n",
       "  <tbody>\n",
       "    <tr>\n",
       "      <th>the red dog</th>\n",
       "      <td>0.000000</td>\n",
       "      <td>0.000000</td>\n",
       "      <td>0.401565</td>\n",
       "      <td>0.000000</td>\n",
       "      <td>0.000000</td>\n",
       "      <td>0.00000</td>\n",
       "      <td>0.000000</td>\n",
       "      <td>0.000000</td>\n",
       "      <td>0.0000</td>\n",
       "      <td>0.0000</td>\n",
       "      <td>0.575063</td>\n",
       "      <td>0.000000</td>\n",
       "      <td>0.712775</td>\n",
       "    </tr>\n",
       "    <tr>\n",
       "      <th>cat eats dog</th>\n",
       "      <td>0.460631</td>\n",
       "      <td>0.460631</td>\n",
       "      <td>0.321658</td>\n",
       "      <td>0.000000</td>\n",
       "      <td>0.382365</td>\n",
       "      <td>0.57094</td>\n",
       "      <td>0.000000</td>\n",
       "      <td>0.000000</td>\n",
       "      <td>0.0000</td>\n",
       "      <td>0.0000</td>\n",
       "      <td>0.000000</td>\n",
       "      <td>0.000000</td>\n",
       "      <td>0.000000</td>\n",
       "    </tr>\n",
       "    <tr>\n",
       "      <th>dog eats food</th>\n",
       "      <td>0.000000</td>\n",
       "      <td>0.000000</td>\n",
       "      <td>0.290314</td>\n",
       "      <td>0.515306</td>\n",
       "      <td>0.345106</td>\n",
       "      <td>0.00000</td>\n",
       "      <td>0.515306</td>\n",
       "      <td>0.515306</td>\n",
       "      <td>0.0000</td>\n",
       "      <td>0.0000</td>\n",
       "      <td>0.000000</td>\n",
       "      <td>0.000000</td>\n",
       "      <td>0.000000</td>\n",
       "    </tr>\n",
       "    <tr>\n",
       "      <th>red cat eats</th>\n",
       "      <td>0.437464</td>\n",
       "      <td>0.437464</td>\n",
       "      <td>0.000000</td>\n",
       "      <td>0.000000</td>\n",
       "      <td>0.363135</td>\n",
       "      <td>0.00000</td>\n",
       "      <td>0.000000</td>\n",
       "      <td>0.000000</td>\n",
       "      <td>0.0000</td>\n",
       "      <td>0.0000</td>\n",
       "      <td>0.437464</td>\n",
       "      <td>0.542226</td>\n",
       "      <td>0.000000</td>\n",
       "    </tr>\n",
       "    <tr>\n",
       "      <th>the hot dog</th>\n",
       "      <td>0.000000</td>\n",
       "      <td>0.000000</td>\n",
       "      <td>0.370086</td>\n",
       "      <td>0.000000</td>\n",
       "      <td>0.000000</td>\n",
       "      <td>0.00000</td>\n",
       "      <td>0.000000</td>\n",
       "      <td>0.000000</td>\n",
       "      <td>0.6569</td>\n",
       "      <td>0.6569</td>\n",
       "      <td>0.000000</td>\n",
       "      <td>0.000000</td>\n",
       "      <td>0.000000</td>\n",
       "    </tr>\n",
       "  </tbody>\n",
       "</table>\n",
       "</div>\n",
       "      <button class=\"colab-df-convert\" onclick=\"convertToInteractive('df-b230e274-d191-499b-aa3b-913be6cad740')\"\n",
       "              title=\"Convert this dataframe to an interactive table.\"\n",
       "              style=\"display:none;\">\n",
       "        \n",
       "  <svg xmlns=\"http://www.w3.org/2000/svg\" height=\"24px\"viewBox=\"0 0 24 24\"\n",
       "       width=\"24px\">\n",
       "    <path d=\"M0 0h24v24H0V0z\" fill=\"none\"/>\n",
       "    <path d=\"M18.56 5.44l.94 2.06.94-2.06 2.06-.94-2.06-.94-.94-2.06-.94 2.06-2.06.94zm-11 1L8.5 8.5l.94-2.06 2.06-.94-2.06-.94L8.5 2.5l-.94 2.06-2.06.94zm10 10l.94 2.06.94-2.06 2.06-.94-2.06-.94-.94-2.06-.94 2.06-2.06.94z\"/><path d=\"M17.41 7.96l-1.37-1.37c-.4-.4-.92-.59-1.43-.59-.52 0-1.04.2-1.43.59L10.3 9.45l-7.72 7.72c-.78.78-.78 2.05 0 2.83L4 21.41c.39.39.9.59 1.41.59.51 0 1.02-.2 1.41-.59l7.78-7.78 2.81-2.81c.8-.78.8-2.07 0-2.86zM5.41 20L4 18.59l7.72-7.72 1.47 1.35L5.41 20z\"/>\n",
       "  </svg>\n",
       "      </button>\n",
       "      \n",
       "  <style>\n",
       "    .colab-df-container {\n",
       "      display:flex;\n",
       "      flex-wrap:wrap;\n",
       "      gap: 12px;\n",
       "    }\n",
       "\n",
       "    .colab-df-convert {\n",
       "      background-color: #E8F0FE;\n",
       "      border: none;\n",
       "      border-radius: 50%;\n",
       "      cursor: pointer;\n",
       "      display: none;\n",
       "      fill: #1967D2;\n",
       "      height: 32px;\n",
       "      padding: 0 0 0 0;\n",
       "      width: 32px;\n",
       "    }\n",
       "\n",
       "    .colab-df-convert:hover {\n",
       "      background-color: #E2EBFA;\n",
       "      box-shadow: 0px 1px 2px rgba(60, 64, 67, 0.3), 0px 1px 3px 1px rgba(60, 64, 67, 0.15);\n",
       "      fill: #174EA6;\n",
       "    }\n",
       "\n",
       "    [theme=dark] .colab-df-convert {\n",
       "      background-color: #3B4455;\n",
       "      fill: #D2E3FC;\n",
       "    }\n",
       "\n",
       "    [theme=dark] .colab-df-convert:hover {\n",
       "      background-color: #434B5C;\n",
       "      box-shadow: 0px 1px 3px 1px rgba(0, 0, 0, 0.15);\n",
       "      filter: drop-shadow(0px 1px 2px rgba(0, 0, 0, 0.3));\n",
       "      fill: #FFFFFF;\n",
       "    }\n",
       "  </style>\n",
       "\n",
       "      <script>\n",
       "        const buttonEl =\n",
       "          document.querySelector('#df-b230e274-d191-499b-aa3b-913be6cad740 button.colab-df-convert');\n",
       "        buttonEl.style.display =\n",
       "          google.colab.kernel.accessAllowed ? 'block' : 'none';\n",
       "\n",
       "        async function convertToInteractive(key) {\n",
       "          const element = document.querySelector('#df-b230e274-d191-499b-aa3b-913be6cad740');\n",
       "          const dataTable =\n",
       "            await google.colab.kernel.invokeFunction('convertToInteractive',\n",
       "                                                     [key], {});\n",
       "          if (!dataTable) return;\n",
       "\n",
       "          const docLinkHtml = 'Like what you see? Visit the ' +\n",
       "            '<a target=\"_blank\" href=https://colab.research.google.com/notebooks/data_table.ipynb>data table notebook</a>'\n",
       "            + ' to learn more about interactive tables.';\n",
       "          element.innerHTML = '';\n",
       "          dataTable['output_type'] = 'display_data';\n",
       "          await google.colab.output.renderOutput(dataTable, element);\n",
       "          const docLink = document.createElement('div');\n",
       "          docLink.innerHTML = docLinkHtml;\n",
       "          element.appendChild(docLink);\n",
       "        }\n",
       "      </script>\n",
       "    </div>\n",
       "  </div>\n",
       "  "
      ],
      "text/plain": [
       "                    cat  cat eats       dog  dog eats      eats  eats dog  \\\n",
       "the red dog    0.000000  0.000000  0.401565  0.000000  0.000000   0.00000   \n",
       "cat eats dog   0.460631  0.460631  0.321658  0.000000  0.382365   0.57094   \n",
       "dog eats food  0.000000  0.000000  0.290314  0.515306  0.345106   0.00000   \n",
       "red cat eats   0.437464  0.437464  0.000000  0.000000  0.363135   0.00000   \n",
       "the hot dog    0.000000  0.000000  0.370086  0.000000  0.000000   0.00000   \n",
       "\n",
       "               eats food      food     hot  hot dog       red   red cat  \\\n",
       "the red dog     0.000000  0.000000  0.0000   0.0000  0.575063  0.000000   \n",
       "cat eats dog    0.000000  0.000000  0.0000   0.0000  0.000000  0.000000   \n",
       "dog eats food   0.515306  0.515306  0.0000   0.0000  0.000000  0.000000   \n",
       "red cat eats    0.000000  0.000000  0.0000   0.0000  0.437464  0.542226   \n",
       "the hot dog     0.000000  0.000000  0.6569   0.6569  0.000000  0.000000   \n",
       "\n",
       "                red dog  \n",
       "the red dog    0.712775  \n",
       "cat eats dog   0.000000  \n",
       "dog eats food  0.000000  \n",
       "red cat eats   0.000000  \n",
       "the hot dog    0.000000  "
      ]
     },
     "execution_count": 4,
     "metadata": {},
     "output_type": "execute_result"
    }
   ],
   "source": [
    "from sklearn.feature_extraction.text import TfidfVectorizer\n",
    "\n",
    "texts = [ 'the red dog', 'cat eats dog', 'dog eats food',\n",
    "         'red cat eats', 'the hot dog']\n",
    "\n",
    "vectorizer = TfidfVectorizer(stop_words='english', ngram_range=(1, 2))\n",
    "vectorizer.fit(texts)\n",
    "x = vectorizer.transform(texts)\n",
    "\n",
    "columns = vectorizer.get_feature_names()\n",
    "pd.DataFrame(x.todense(), columns=columns, index=texts)"
   ]
  },
  {
   "cell_type": "markdown",
   "metadata": {
    "id": "mTt4qLscPpPQ"
   },
   "source": [
    "### Let's use only Bag-of-Words to solve real problems\n",
    "We can already build some application using only these, let's try a very quick one"
   ]
  },
  {
   "cell_type": "markdown",
   "metadata": {
    "id": "96kOhZAdPpPQ"
   },
   "source": [
    "#### import libraries"
   ]
  },
  {
   "cell_type": "code",
   "execution_count": 5,
   "metadata": {
    "ExecuteTime": {
     "end_time": "2021-11-07T22:21:28.605142Z",
     "start_time": "2021-11-07T22:21:27.598038Z"
    },
    "executionInfo": {
     "elapsed": 57,
     "status": "ok",
     "timestamp": 1656435448560,
     "user": {
      "displayName": "Wssam Hassan",
      "userId": "16924058918477820692"
     },
     "user_tz": -120
    },
    "id": "WZkdz4AhPpPR"
   },
   "outputs": [],
   "source": [
    "from collections import Counter\n",
    "import random\n",
    "from termcolor import colored\n",
    "import numpy as np\n",
    "from sklearn.metrics.pairwise import cosine_similarity, cosine_distances\n",
    "from sklearn.model_selection import train_test_split"
   ]
  },
  {
   "cell_type": "markdown",
   "metadata": {
    "id": "z8Q09QVsPpPS"
   },
   "source": [
    "#### Load Data"
   ]
  },
  {
   "cell_type": "code",
   "execution_count": 6,
   "metadata": {
    "colab": {
     "base_uri": "https://localhost:8080/"
    },
    "executionInfo": {
     "elapsed": 11621,
     "status": "ok",
     "timestamp": 1656435460125,
     "user": {
      "displayName": "Wssam Hassan",
      "userId": "16924058918477820692"
     },
     "user_tz": -120
    },
    "id": "fcrGT41UPpPS",
    "outputId": "0b73fb6e-d476-41b7-e5c5-b0961f552e69"
   },
   "outputs": [
    {
     "name": "stdout",
     "output_type": "stream",
     "text": [
      "DATA : With all the recent problems the Indians have been having\n",
      "with their pitching staff I have heard numerous names\n",
      "thrown around about who could solve their problem.\n",
      "\n",
      "One name I have not heard is Mike Soper (RP).  As far as\n",
      "I know, Soper has had pretty good minor league stats.\n",
      "Why not give the kid a chance?  Anyone know anything about\n",
      "this guy?\n",
      "\n",
      "-- \n",
      "LABEL: rec.sport.baseball\n"
     ]
    }
   ],
   "source": [
    "from sklearn.datasets import fetch_20newsgroups\n",
    "\n",
    "data = fetch_20newsgroups(subset='test', remove=['headers', 'footers', 'quotes'],\n",
    "                         categories=['rec.autos', 'comp.windows.x', \n",
    "                                     'soc.religion.christian', 'rec.sport.baseball'])\n",
    "x = data.data\n",
    "y = [data.target_names[i] for i in data.target]\n",
    "print(f'DATA : {x[0]}')\n",
    "print(f'LABEL: {y[0]}')"
   ]
  },
  {
   "cell_type": "code",
   "execution_count": 7,
   "metadata": {
    "ExecuteTime": {
     "end_time": "2021-11-07T22:21:28.610309Z",
     "start_time": "2021-11-07T22:21:28.606475Z"
    },
    "colab": {
     "base_uri": "https://localhost:8080/"
    },
    "executionInfo": {
     "elapsed": 15,
     "status": "ok",
     "timestamp": 1656435460126,
     "user": {
      "displayName": "Wssam Hassan",
      "userId": "16924058918477820692"
     },
     "user_tz": -120
    },
    "id": "sBeAowHqPpPT",
    "outputId": "c22ac853-5b7d-40d4-f098-ce6b84b81419"
   },
   "outputs": [
    {
     "data": {
      "text/plain": [
       "Counter({'comp.windows.x': 395,\n",
       "         'rec.autos': 396,\n",
       "         'rec.sport.baseball': 397,\n",
       "         'soc.religion.christian': 398})"
      ]
     },
     "execution_count": 7,
     "metadata": {},
     "output_type": "execute_result"
    }
   ],
   "source": [
    "Counter(y)"
   ]
  },
  {
   "cell_type": "code",
   "execution_count": 8,
   "metadata": {
    "ExecuteTime": {
     "end_time": "2021-11-07T22:21:28.620777Z",
     "start_time": "2021-11-07T22:21:28.612758Z"
    },
    "executionInfo": {
     "elapsed": 11,
     "status": "ok",
     "timestamp": 1656435460127,
     "user": {
      "displayName": "Wssam Hassan",
      "userId": "16924058918477820692"
     },
     "user_tz": -120
    },
    "id": "WkJPo9rTPpPU"
   },
   "outputs": [],
   "source": [
    "x_train, x_test, y_train, y_test = train_test_split(x, y, test_size=.2, stratify=y, random_state=42)"
   ]
  },
  {
   "cell_type": "markdown",
   "metadata": {
    "id": "q7PnNphBPpPU"
   },
   "source": [
    "Let's try to get the top-5 similar articles"
   ]
  },
  {
   "cell_type": "code",
   "execution_count": 9,
   "metadata": {
    "ExecuteTime": {
     "end_time": "2021-11-07T22:21:29.113768Z",
     "start_time": "2021-11-07T22:21:28.623397Z"
    },
    "executionInfo": {
     "elapsed": 383,
     "status": "ok",
     "timestamp": 1656435460500,
     "user": {
      "displayName": "Wssam Hassan",
      "userId": "16924058918477820692"
     },
     "user_tz": -120
    },
    "id": "JqdmMsZyPpPV"
   },
   "outputs": [],
   "source": [
    "vectorizer = CountVectorizer(stop_words='english')\n",
    "vectorizer.fit(x_train)\n",
    "x_train_v = vectorizer.transform(x_train)\n",
    "x_test_v = vectorizer.transform(x_test)"
   ]
  },
  {
   "cell_type": "code",
   "execution_count": 10,
   "metadata": {
    "ExecuteTime": {
     "end_time": "2021-11-07T22:21:59.507846Z",
     "start_time": "2021-11-07T22:21:59.461702Z"
    },
    "colab": {
     "base_uri": "https://localhost:8080/"
    },
    "executionInfo": {
     "elapsed": 9,
     "status": "ok",
     "timestamp": 1656435460501,
     "user": {
      "displayName": "Wssam Hassan",
      "userId": "16924058918477820692"
     },
     "user_tz": -120
    },
    "id": "lDHXs_lzPpPW",
    "outputId": "0f902555-6506-43f7-d019-c3c36be180c0",
    "scrolled": false
   },
   "outputs": [
    {
     "name": "stdout",
     "output_type": "stream",
     "text": [
      "ID: 82\n",
      "True label: \u001b[32mcomp.windows.x\u001b[0m\n",
      "0 nearest label is \u001b[32mcomp.windows.x\u001b[0m similarity: \u001b[33m0.728\u001b[0m\n",
      "1 nearest label is \u001b[32mcomp.windows.x\u001b[0m similarity: \u001b[33m0.597\u001b[0m\n",
      "2 nearest label is \u001b[32mcomp.windows.x\u001b[0m similarity: \u001b[33m0.379\u001b[0m\n",
      "ID: 47\n",
      "True label: \u001b[32mrec.sport.baseball\u001b[0m\n",
      "0 nearest label is \u001b[32mrec.sport.baseball\u001b[0m similarity: \u001b[33m0.263\u001b[0m\n",
      "1 nearest label is \u001b[32mrec.sport.baseball\u001b[0m similarity: \u001b[33m0.175\u001b[0m\n",
      "2 nearest label is \u001b[32mrec.sport.baseball\u001b[0m similarity: \u001b[33m0.173\u001b[0m\n",
      "ID: 99\n",
      "True label: \u001b[32mrec.sport.baseball\u001b[0m\n",
      "0 nearest label is \u001b[31mcomp.windows.x\u001b[0m similarity: \u001b[33m0.369\u001b[0m\n",
      "1 nearest label is \u001b[31mrec.autos\u001b[0m similarity: \u001b[33m0.343\u001b[0m\n",
      "2 nearest label is \u001b[31mcomp.windows.x\u001b[0m similarity: \u001b[33m0.335\u001b[0m\n",
      "ID: 238\n",
      "True label: \u001b[32mrec.autos\u001b[0m\n",
      "0 nearest label is \u001b[32mrec.autos\u001b[0m similarity: \u001b[33m0.195\u001b[0m\n",
      "1 nearest label is \u001b[32mrec.autos\u001b[0m similarity: \u001b[33m0.178\u001b[0m\n",
      "2 nearest label is \u001b[32mrec.autos\u001b[0m similarity: \u001b[33m0.162\u001b[0m\n",
      "ID: 69\n",
      "True label: \u001b[32mcomp.windows.x\u001b[0m\n",
      "0 nearest label is \u001b[32mcomp.windows.x\u001b[0m similarity: \u001b[33m0.466\u001b[0m\n",
      "1 nearest label is \u001b[32mcomp.windows.x\u001b[0m similarity: \u001b[33m0.38\u001b[0m\n",
      "2 nearest label is \u001b[32mcomp.windows.x\u001b[0m similarity: \u001b[33m0.331\u001b[0m\n"
     ]
    }
   ],
   "source": [
    "for i in random.choices(range(0, len(x_test)), k=5):\n",
    "    print(f\"ID: {i}\")\n",
    "    print(\"True label:\", colored(y_test[i], 'green'))\n",
    "    distances = cosine_similarity(x_test_v[i], x_train_v).flatten()\n",
    "    indices = np.argsort(distances)[::-1]\n",
    "    for _, j in enumerate(indices[:3]):\n",
    "        print(f\"{_} nearest label is {colored(y_train[j], 'green' if y_train[j]==y_test[i] else 'red')}\",\n",
    "             f\"similarity: {colored(round(distances[j], 3), 'yellow')}\")"
   ]
  }
 ],
 "metadata": {
  "celltoolbar": "Slideshow",
  "colab": {
   "collapsed_sections": [],
   "name": "1.3 Features Extraction.ipynb",
   "provenance": []
  },
  "kernelspec": {
   "display_name": "Python 3 (ipykernel)",
   "language": "python",
   "name": "python3"
  },
  "language_info": {
   "codemirror_mode": {
    "name": "ipython",
    "version": 3
   },
   "file_extension": ".py",
   "mimetype": "text/x-python",
   "name": "python",
   "nbconvert_exporter": "python",
   "pygments_lexer": "ipython3",
   "version": "3.8.13"
  }
 },
 "nbformat": 4,
 "nbformat_minor": 1
}
